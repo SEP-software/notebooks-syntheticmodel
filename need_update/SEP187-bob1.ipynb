{
 "cells": [
  {
   "cell_type": "code",
   "execution_count": null,
   "id": "f7078e03",
   "metadata": {},
   "outputs": [],
   "source": [
    "import numba\n",
    "import numpy as np\n",
    "import holoviews as hv\n",
    "hv.extension(\"bokeh\",\"matplotlib\",logo=False)\n",
    "@numba.njit()\n",
    "def interp2dNumba(inA,outA,j):\n",
    "    for i2 in range(outA.shape[0]):\n",
    "        f2=i2/j\n",
    "        l2=int(f2)\n",
    "        f2=f2-l2\n",
    "        for i1 in range(outA.shape[1]):\n",
    "            f1=i1/j\n",
    "            l1=int(f1)\n",
    "            f1=f1-l1\n",
    "            outA[i2,i1]=(1.-f2)*(1.-f1)*inA[l2,l1]+\\\n",
    "              (1.-f2)*f1*inA[l2,l1+1]+\\\n",
    "              (f2)*(1.-f1)*inA[l2+1,l1]+f2*f1*inA[l2+1,l1+1]\n",
    "    \n",
    "def interp2d(inA,j):\n",
    "    ns=((inA.shape[0]-1)*j+1,(inA.shape[1]-1)*j+1)\n",
    "    outA=np.zeros(ns,np.float32)\n",
    "    interp2dNumba(inA,outA,j)\n",
    "    return outA\n",
    "\n",
    "\n",
    "ina=np.random.rand(10,10)\n",
    "outa=interp2d(ina,10)\n",
    "\n",
    "combo=(hv.Image(ina,bounds=(0,0,1,1)).opts(cmap=\"gist_gray\")+hv.Image(outa,bounds=(0,0,1,1)).opts(cmap=\"gist_gray\")).opts(toolbar=None)\n",
    "hv.renderer(\"bokeh\").save(combo,\"linear\",fmt=\"png\")\n"
   ]
  },
  {
   "cell_type": "code",
   "execution_count": null,
   "id": "41bf9100",
   "metadata": {},
   "outputs": [],
   "source": [
    "from bokeh.io import export_png\n",
    "import syntheticModel\n",
    "p=np.ndarray((100,100))\n",
    "\n",
    "\n",
    "p1 = np.linspace(0,1,100, endpoint=False)\n",
    "p2 = np.linspace(0,1,100, endpoint=False)\n",
    "p = np.stack(np.meshgrid(p1, p2, indexing='ij'), -1)\n",
    "p = np.reshape(p, (-1, 2)).T\n",
    "\n",
    "x=np.reshape(syntheticModel.model_noise.fractal(p,n_octaves=1),(100,100))\n",
    "y=np.reshape(syntheticModel.model_noise.fractal(p,frequency=2,n_octaves=1),(100,100))\n",
    "z=np.reshape(syntheticModel.model_noise.fractal(p,frequency=3,n_octaves=1),(100,100))\n",
    "\n",
    "\n",
    "def set_toolbar_autohide(plot,element):\n",
    "    bokeh_plot=plot.state\n",
    "    bokeh_plot.toolbar.autohide=True\n",
    "    bokeh_plot.toolbar.logo=None\n",
    "    \n",
    "o={\"cmap\":\"gist_gray\"}\n",
    "\n",
    "\n",
    "freq=(hv.Image(x,bounds=(0,0,1,1)).opts(**o)+\\\n",
    "hv.Image(y,bounds=(0,0,1,1)).opts(**o)+\\\n",
    "hv.Image(z,bounds=(0,0,1,1)).opts(**o)).opts(toolbar=None)\n",
    "hv.renderer(\"bokeh\").save(freq,\"freq\",fmt=\"png\")\n",
    "\n",
    "freq"
   ]
  },
  {
   "cell_type": "code",
   "execution_count": null,
   "id": "fdd6bbd1",
   "metadata": {},
   "outputs": [],
   "source": [
    "import syntheticModel.model_noise\n",
    "x=np.reshape(syntheticModel.model_noise.fractal(p,n_octaves=1),(100,100))\n",
    "y=np.reshape(syntheticModel.model_noise.fractal(p,n_octaves=2),(100,100))\n",
    "z=np.reshape(syntheticModel.model_noise.fractal(p,n_octaves=3),(100,100))\n",
    "octaves=(hv.Image(x,bounds=(0,0,1,1)).opts(cmap=\"gist_gray\")+\\\n",
    "hv.Image(y,bounds=(0,0,1,1)).opts(cmap=\"gist_gray\")+\\\n",
    "hv.Image(z,bounds=(0,0,1,1)).opts(cmap=\"gist_gray\")).opts(toolbar=None)\n",
    "\n",
    "hv.renderer(\"bokeh\").save(octaves,\"octaves\",fmt=\"png\")\n",
    "octaves"
   ]
  },
  {
   "cell_type": "code",
   "execution_count": null,
   "id": "686bac0a",
   "metadata": {},
   "outputs": [],
   "source": [
    "x=np.reshape(syntheticModel.model_noise.fractal(p,persistence=.2),(100,100))\n",
    "y=np.reshape(syntheticModel.model_noise.fractal(p,persistence=.5),(100,100))\n",
    "z=np.reshape(syntheticModel.model_noise.fractal(p,persistence=.8),(100,100))\n",
    "pers=(hv.Image(x,bounds=(0,0,1,1)).opts(cmap=\"gist_gray\")+\\\n",
    "hv.Image(y,bounds=(0,0,1,1)).opts(cmap=\"gist_gray\")+\\\n",
    "hv.Image(z,bounds=(0,0,1,1)).opts(cmap=\"gist_gray\")).opts(toolbar=None)\n",
    "hv.renderer(\"bokeh\").save(pers,\"pers\",fmt=\"png\")\n",
    "pers"
   ]
  },
  {
   "cell_type": "code",
   "execution_count": null,
   "id": "c9c5c0ce",
   "metadata": {},
   "outputs": [],
   "source": [
    "import syntheticModel\n",
    "hv.extension(\"bokeh\",\"matplotlib\",logo=False)\n",
    "\n",
    "hyper=syntheticModel.hypercube(ns=[20,400,50],os=[0,0,0],ds=[4,4,4])\n",
    "model=syntheticModel.geoModel(hyper,{\"vel\":5000.},\"vel\")\n",
    "depositC=syntheticModel.deposit()\n",
    "depositI=syntheticModel.deposit(interbedThick=5.,interbedThickDev=3.,interbedPropDev=200.)\n",
    "depositN=syntheticModel.deposit(noiseDev=300.)\n",
    "depositIC=syntheticModel.deposit(interbedThick=5.,interbedThickDev=3.,interbedPropDev=200.,interbedDev=8.)\n",
    "mt=depositC.apply(model,thick=40,prop=4700)\n",
    "mt2=depositI.apply(mt,thick=70,prop=4100)\n",
    "mt3=depositN.apply(mt2,thick=60,prop=3700)\n",
    "mt4=depositIC.apply(mt3,thick=60,prop=3100,expand=False)\n",
    "depositI=hv.Image(mt4.get().getNdArray()[5,:,::-1].T,\\\n",
    "                 kdims=[(\"x\",\"Position(m)\"),(\"y\",\"Depth(m)\")],\\\n",
    "                 bounds=(0,1000,400*4,0)).opts(invert_yaxis=True,aspect=2,\\\n",
    "            toolbar=None,cmap=\"gist_rainbow\",clim=(3100,5000))\n",
    "hv.renderer(\"bokeh\").save(depositI,\"deposit\",fmt=\"png\")\n",
    "depositI"
   ]
  },
  {
   "cell_type": "code",
   "execution_count": null,
   "id": "6f570bbb",
   "metadata": {},
   "outputs": [],
   "source": [
    "mtS=syntheticModel.squish().apply(mt3)\n",
    "sq=hv.Image(mtS.get().getNdArray()[5,:,::-1].T,\\\n",
    "                 kdims=[(\"x\",\"Position(m)\"),(\"y\",\"Depth(m)\")],\\\n",
    "                 bounds=(0,1000,400*4,0)).opts(invert_yaxis=True,aspect=2,\\\n",
    "            toolbar=None,cmap=\"gist_rainbow\",clim=(3100,5000))\n",
    "hv.renderer(\"bokeh\").save(sq,\"squish\",fmt=\"png\")\n",
    "sq"
   ]
  },
  {
   "cell_type": "code",
   "execution_count": null,
   "id": "94de27ce",
   "metadata": {},
   "outputs": [],
   "source": []
  },
  {
   "cell_type": "code",
   "execution_count": null,
   "id": "9dbaa35d",
   "metadata": {},
   "outputs": [],
   "source": [
    "mtSalt=syntheticModel.salt().apply(mtS,seed=23,beg_freq=.3,\\\n",
    "            salt_value={\"vel\":4500})\n",
    "sa=hv.Image(mtSalt.get().getNdArray()[5,:,::-1].T,\\\n",
    "                 kdims=[(\"x\",\"Position(m)\"),(\"y\",\"Depth(m)\")],\\\n",
    "                 bounds=(0,1000,400*4,0)).opts(invert_yaxis=True,aspect=2,\\\n",
    "            toolbar=None,cmap=\"gist_rainbow\",clim=(3100,5000))\n",
    "hv.renderer(\"bokeh\").save(sa,\"salt\",fmt=\"png\")\n",
    "sa"
   ]
  },
  {
   "cell_type": "code",
   "execution_count": null,
   "id": "494b63f8",
   "metadata": {},
   "outputs": [],
   "source": []
  },
  {
   "cell_type": "code",
   "execution_count": null,
   "id": "8d500d9d",
   "metadata": {},
   "outputs": [],
   "source": [
    "mtC=syntheticModel.chimneyBig().apply(mtS)\n",
    "mT=depositC.apply(mtC,prop=1500,thick=40)\n",
    "ch=hv.Image(mT.get().getNdArray()[5,:,::-1].T,\\\n",
    "                 kdims=[(\"x\",\"Position(m)\"),(\"y\",\"Depth(m)\")],\\\n",
    "                 bounds=(0,1000,400*4,0)).opts(invert_yaxis=True,aspect=2,\\\n",
    "            toolbar=None,cmap=\"gist_rainbow\",clim=(3100,5000))\n",
    "hv.renderer(\"bokeh\").save(ch,\"chimney\",fmt=\"png\")\n",
    "ch"
   ]
  },
  {
   "cell_type": "code",
   "execution_count": null,
   "id": "25d69055",
   "metadata": {},
   "outputs": [],
   "source": [
    "\n",
    "hv.extension(\"bokeh\",\"matplotlib\",logo=False)\n",
    "\n",
    "hyper=syntheticModel.hypercube(ns=[20,800,100],os=[0,0,0],ds=[4,4,4])\n",
    "model=syntheticModel.geoModel(hyper,{\"vel\":5000.},\"vel\")\n",
    "depositC=syntheticModel.deposit()\n",
    "\n",
    "\n",
    "depositI=syntheticModel.deposit(interbedThick=5.,interbedThickDev=3.,interbedPropDev=200.)\n",
    "\n",
    "\n",
    "depositN=syntheticModel.deposit(noiseDev=300.)\n",
    "depositIC=syntheticModel.deposit(interbedThick=5.,interbedThickDev=3.,interbedPropDev=200.,interbedDev=8.)\n",
    "#mt=depositC.apply(model,thick=40,prop=4700)\n",
    "#mt2=depositI.apply(mt,thick=70,prop=4100)\n",
    "#mt3=depositN.apply(mt2,thick=60,prop=3700)\n",
    "mt4=depositIC.apply(model,thick=60,prop=3100,noiseDev=150.)\n",
    "squishMe=syntheticModel.squish(begFreq=9.,maxShift=60)\n",
    "\n",
    "mt0=squishMe.apply(mt4)\n",
    "mt1=depositIC.apply(mt0,thick=70,prop=2900.,noiseDev=70.)\n",
    "mt2=depositN.apply(mt1,thick=80,prop=2700)\n",
    "\n",
    "#hv.renderer(\"bokeh\").save(deposit,\"deposit\",fmt=\"png\")\n",
    "#deposit"
   ]
  },
  {
   "cell_type": "code",
   "execution_count": null,
   "id": "9b96aeab",
   "metadata": {},
   "outputs": [],
   "source": [
    "mtS=squishMe.apply(mt2,maxShift=400,begFreq=22.,seed=0)\n",
    "\n",
    "img=hv.Image(mtS.get().getNdArray()[50,:,::-1].T,\\\n",
    "                 kdims=[(\"x\",\"Position(m)\"),(\"y\",\"Depth(m)\")],\\\n",
    "                 bounds=(0,4*mtS.get().getNdArray().shape[2],800*4,0)).opts(invert_yaxis=True,aspect=2,\\\n",
    "            cmap=\"gist_rainbow\",clim=(2500,5000))\n",
    "img"
   ]
  },
  {
   "cell_type": "code",
   "execution_count": null,
   "id": "6b4e25ea",
   "metadata": {},
   "outputs": [],
   "source": [
    "\n",
    "dep2=syntheticModel.deposit(seed=2).apply(mtS,expand=True)\n",
    "x=dep2.get().getNdArray()[50,:,:]\n",
    "y=dep2.getIntField(\"layer\").getNdArray()[50,18,:]\n",
    "img2=hv.Image(dep2.get().getNdArray()[50,:,::-1].T,\\\n",
    "                 kdims=[(\"x\",\"Position(m)\"),(\"y\",\"Depth(m)\")],\\\n",
    "                 bounds=(0,4*dep2.get().getNdArray().shape[2],800*4,0)).opts(invert_yaxis=True,aspect=2,\\\n",
    "            cmap=\"gist_rainbow\",clim=(2500,5000))\n",
    "img2"
   ]
  },
  {
   "cell_type": "code",
   "execution_count": null,
   "id": "18a1907f",
   "metadata": {},
   "outputs": [],
   "source": []
  },
  {
   "cell_type": "code",
   "execution_count": null,
   "id": "d248c4f6",
   "metadata": {},
   "outputs": [],
   "source": [
    "slt=syntheticModel.salt(seed=24,beg2=0,end2=.5,salt_value={\"vel\":4500})\n",
    "gg=slt.apply(dep2)\n",
    "img3=hv.Image(gg.get().getNdArray()[50,:,::-1].T,\\\n",
    "                 kdims=[(\"x\",\"Position(m)\"),(\"y\",\"Depth(m)\")],\\\n",
    "                 bounds=(0,4*gg.get().getNdArray().shape[2],800*4,0)).opts(invert_yaxis=True,aspect=2,\\\n",
    "            cmap=\"gist_rainbow\",clim=(2500,10000))\n",
    "img3"
   ]
  },
  {
   "cell_type": "code",
   "execution_count": null,
   "id": "2d215bc5",
   "metadata": {},
   "outputs": [],
   "source": []
  },
  {
   "cell_type": "code",
   "execution_count": null,
   "id": "3b19433a",
   "metadata": {},
   "outputs": [],
   "source": [
    "outM=syntheticModel.fault().apply(gg,angle=30,radius=1000,indicateI=True,begy=.7,\n",
    "                                  theta_shift=4,theta_die=13)\n",
    "img3=hv.Image(outM.getFloatField(\"vel\").getNdArray()[50,:,::-1].T,\\\n",
    "                 kdims=[(\"x\",\"Position(m)\"),(\"y\",\"Depth(m)\")],\\\n",
    "                 bounds=(0,4*gg.get().getNdArray().shape[2],800*4,0)).opts(invert_yaxis=True,aspect=2,\\\n",
    "            cmap=\"gist_rainbow\",clim=(2000,5000))\n",
    "img3\n",
    "\n",
    "#x=outM.get().getNdArray()"
   ]
  },
  {
   "cell_type": "code",
   "execution_count": null,
   "id": "2417854e",
   "metadata": {},
   "outputs": [],
   "source": []
  },
  {
   "cell_type": "code",
   "execution_count": null,
   "id": "0513facd",
   "metadata": {},
   "outputs": [],
   "source": []
  },
  {
   "cell_type": "code",
   "execution_count": null,
   "id": "42756405",
   "metadata": {},
   "outputs": [],
   "source": []
  },
  {
   "cell_type": "code",
   "execution_count": null,
   "id": "97ad15fb",
   "metadata": {},
   "outputs": [],
   "source": []
  }
 ],
 "metadata": {
  "environment": {
   "kernel": "python3",
   "name": "common-cpu.m112",
   "type": "gcloud",
   "uri": "gcr.io/deeplearning-platform-release/base-cpu:m112"
  },
  "kernelspec": {
   "display_name": "Python 3",
   "language": "python",
   "name": "python3"
  },
  "language_info": {
   "codemirror_mode": {
    "name": "ipython",
    "version": 3
   },
   "file_extension": ".py",
   "mimetype": "text/x-python",
   "name": "python",
   "nbconvert_exporter": "python",
   "pygments_lexer": "ipython3",
   "version": "3.10.12"
  }
 },
 "nbformat": 4,
 "nbformat_minor": 5
}
