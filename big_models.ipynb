{
 "cells": [
  {
   "cell_type": "markdown",
   "id": "5a4cac57-6e9f-44d3-bc4a-8d43ba4093e9",
   "metadata": {},
   "source": [
    "# A notebook example to create some fairly complex models"
   ]
  },
  {
   "cell_type": "code",
   "execution_count": null,
   "id": "7023c94c-0253-4520-8913-9b8e6658462a",
   "metadata": {},
   "outputs": [],
   "source": [
    "!python -m pip uninstall -y bokeh holoviews synthetic_model sep_python\n"
   ]
  },
  {
   "cell_type": "code",
   "execution_count": null,
   "id": "f0e9cd1b-6f4a-41da-87d7-50d26fe643c1",
   "metadata": {},
   "outputs": [],
   "source": []
  },
  {
   "cell_type": "code",
   "execution_count": null,
   "id": "1d272ecb-e93e-4af5-8986-e85bc49e8f73",
   "metadata": {},
   "outputs": [],
   "source": [
    "%load_ext autoreload\n",
    "%autoreload 2\n",
    "import sys\n",
    "!python -m pip install \"synthetic_model @ git+https://github.com/SEP-software/synthetic-model.git@9efd32607bc31a4db565a7440b830eb8883e8822\"\n"
   ]
  },
  {
   "cell_type": "markdown",
   "id": "044019f9-2ac8-417b-bb1a-8584b61e899c",
   "metadata": {},
   "source": [
    "## A function to plot frames from the model"
   ]
  },
  {
   "cell_type": "code",
   "execution_count": null,
   "id": "a1f83205-d026-4fb3-9bcf-870b132fb9bb",
   "metadata": {},
   "outputs": [],
   "source": [
    "import numpy as np\n",
    "from synthetic_model import Hypercube\n",
    "def createPlot(data,p1,p2,p3):\n",
    "    if isinstance(data,np.ndarray):\n",
    "        fld=data\n",
    "        hyper=hypercube(ns=[data.shape[2],data.shape[1],data.shape[0]])\n",
    "    else:\n",
    "        fld=data.get_nd_array()\n",
    "        hyper=data.get_hyper()\n",
    "    ax1=hyper.axes[0]\n",
    "    ax2=hyper.axes[1]\n",
    "    ax3=hyper.axes[2]\n",
    "    mn=fld.min()\n",
    "    mx=fld.max()\n",
    "    front=fld[p3,:,::-1].T\n",
    "    top=fld[::-1,:,p1]\n",
    "    side=fld[:,p2,::-1].T\n",
    "    b=(ax1.o,ax1.o+ax1.d*(ax1.n-1),ax2.o,ax2.o+ax2.d*(ax2.n-1))\n",
    "    frontF=hv.Image(front,kdims=[\"X\",\"Z\"],bounds=(ax2.o,ax1.o,ax2.o+ax2.d*(ax2.n-1),ax1.o+ax1.d*(ax1.n-1))).opts(\\\n",
    "             cmap=\"gist_rainbow\",clim=(mn,mx),toolbar=None,invert_yaxis=True,aspect=1,axiswise=True)\n",
    "    sideF=hv.Image(side,kdims=[\"Y\",\"Z\"],bounds=(ax3.o,ax1.o,ax3.o+ax3.d*(ax3.n-1),ax1.o+ax1.d*(ax1.n-1))).opts(\\\n",
    "             cmap=\"gist_rainbow\",clim=(mn,mx),toolbar=None,yaxis=None,invert_yaxis=True,aspect=1.,axiswise=True)\n",
    "    topF=hv.Image(top,kdims=[\"X\",\"Y\"],bounds=(ax2.o,ax2.o,ax2.o+ax2.d*(ax2.n-1),ax3.o+ax3.d*(ax3.n-1))).opts(\\\n",
    "             cmap=\"gist_rainbow\",clim=(mn,mx),toolbar=None,xaxis=None,aspect=1,axiswise=True)\n",
    "    botF=hv.Layout(frontF+sideF).opts(toolbar=None)\n",
    "    tot=hv.Layout(topF+hv.Empty()+frontF+sideF).cols(2).opts(toolbar=None)\n",
    "    return tot\n",
    "    "
   ]
  },
  {
   "cell_type": "markdown",
   "id": "f28eb7a3-b1f9-4f02-a35d-56814a1fc343",
   "metadata": {},
   "source": [
    "## A function to convert an image into a numpy array to be inserted into the model"
   ]
  },
  {
   "cell_type": "code",
   "execution_count": null,
   "id": "ba44973b-7078-4dcc-9ddc-2c9ffd80d530",
   "metadata": {},
   "outputs": [],
   "source": [
    "import numpy as np\n",
    "from PIL import Image\n",
    "\n",
    "def png_to_np_array(image_path):\n",
    "    # Open the image using PIL\n",
    "    img = Image.open(image_path)\n",
    "    img = img.convert('RGB')\n",
    "\n",
    "    # Compute new width while keeping the aspect ratio\n",
    "    aspect_ratio = img.width / img.height\n",
    "    new_width = int(60 * aspect_ratio)\n",
    "    \n",
    "    # Resize the image\n",
    "    img_resized = img.resize((new_width, 60))\n",
    "    \n",
    "    # Convert resized image to numpy array\n",
    "    np_img = np.asarray(img_resized)\n",
    "    \n",
    "    # Convert values to float ranging between 0 and 1\n",
    "    np_img_float = np_img.astype(float) / 255.0\n",
    "    \n",
    "    return np_img_float\n",
    "\n",
    "# Example usage:\n",
    "image_path = \"./logo.png\"\n",
    "res = png_to_np_array(image_path).transpose(1,0,2)\n",
    "logo=np.zeros((104,60))\n",
    "logo[:,:]= (res[:104,:,0]+res[:104,:,1]+res[:104,:,2])\n",
    "logo=1-logo/3\n",
    "logo=logo*4000"
   ]
  },
  {
   "cell_type": "markdown",
   "id": "418e7c72-4a6d-4fe0-b701-8a89d6496fd7",
   "metadata": {},
   "source": [
    "## The insert function"
   ]
  },
  {
   "cell_type": "code",
   "execution_count": null,
   "id": "0fd1dbf5-369b-44f3-8002-7b5d0678fcc3",
   "metadata": {},
   "outputs": [],
   "source": [
    "from numba import njit\n",
    "@njit\n",
    "def add_logo(ar,logo,sc_3,c3,l3,b2,b1):\n",
    "    b3=c3-l3-sc_3\n",
    "    e3=c3+l3+sc_3-1\n",
    "    for i3 in range(sc_3):\n",
    "        sc=i3/sc_3\n",
    "        for i2 in range(logo.shape[0]):\n",
    "            for i1 in range(logo.shape[1]):\n",
    "                if logo[i2,i1] >.01:\n",
    "                    ar[b3+i3,b2+i2,b1+i1]=(1.-sc)*ar[b3+i3,b2+i2,b1+i1]+sc*logo[i2,i1]\n",
    "                    ar[e3-i3,b2+i2,b1+i1]=(1.-sc)*ar[b3+i3,b2+i2,b1+i1]+sc*logo[i2,i1]\n",
    "    \n",
    "    for i2 in range(logo.shape[0]):\n",
    "        for i1 in range(logo.shape[1]):\n",
    "            if logo[i2,i1] >.01:\n",
    "                ar[c3-l3:c3+l3,b2+i2,b1+i1]=logo[i2,i1]\n"
   ]
  },
  {
   "cell_type": "markdown",
   "id": "3f8a06a9-c4a3-4651-ad29-651ba4d581cf",
   "metadata": {},
   "source": [
    "## A function to set eps and delta to reasonable values"
   ]
  },
  {
   "cell_type": "code",
   "execution_count": null,
   "id": "9f4057a3-8f1b-46e8-acac-ab06815081d5",
   "metadata": {},
   "outputs": [],
   "source": [
    "from numba import njit\n",
    "@njit\n",
    "def cleanup_eps_delta(eps,delta,eps_clip,delta_clip_ratio):\n",
    "    for i3 in range(eps.shape[2]):\n",
    "        for i2 in range(eps.shape[1]):\n",
    "            for i1 in range(eps.shape[0]):\n",
    "                if eps[i3,i2,i1] < eps_clip or eps[i3,i2,i1]<=0.:\n",
    "                    eps[i3,i2,i1]=0\n",
    "                    delta[i3,i2,i1]=0.\n",
    "                elif delta[i3,i2,i1]/eps[i3,i2,i1] > delta_clip_ratio:\n",
    "                    delta[i3,i2,i1]=eps[i3,i2,i1]*delta_clip_ratio\n",
    "                elif delta[i3,i2,i1]<0.:\n",
    "                    delta[i3,i2,i1]=0.\n"
   ]
  },
  {
   "cell_type": "markdown",
   "id": "bdc594d1-d250-4f4e-b209-4785f3769b51",
   "metadata": {},
   "source": [
    "## Basic setup\n",
    "\n"
   ]
  },
  {
   "cell_type": "code",
   "execution_count": null,
   "id": "9d29cee3-7673-4db7-bf4d-ddc25394e437",
   "metadata": {
    "tags": []
   },
   "outputs": [],
   "source": [
    "import holoviews as hv\n",
    "from synthetic_model import GeoModel,Deposit,Squish,ErodeFlat,Fault\n",
    "hv.extension(\"bokeh\",\"matplotlib\",logo=False)\n",
    "\n",
    "# Create a hypercube describing the basement\n",
    "hyper=Hypercube.set_with_ns(ns=[20,2400,1000],os=[0,0,0],ds=[10,10,10])\n",
    "\n",
    "#Create the initial geomodel\n",
    "basement=GeoModel(hyper,{\"vp\":5000.,\"vs\":3000,\"rho\":2400,\"eps\":0,\"delta\":0},\"vp\")\n",
    "\n",
    "#Create several different default deposition modes\n",
    "depositC=Deposit()  #Constant velocity\n",
    "depositI=Deposit(interbedThickAvg=20.,interbedThickDev=13.,interbedPropDev=100.) #Interbeded layer\n",
    "depositN=Deposit(noiseDev=300.) #Add some noise to constant velocity\\\n",
    "depositIC=Deposit(interbedThickAvg=15.,interbedThickDev=13.,interbedPropDev=100.,interbedDev=4.) #Interbed with noise\n",
    "depositICN=Deposit(noiseDev=120,  #Spatial variation of vp\n",
    "                   interbedThickDev=18., #std-deviation of thickness\n",
    "                   noiseFrequency=50, #How fast spatially velocity varies\n",
    "                   noiseZStretch=10, #Make the noise vary more in Z than X,Y\n",
    "                   interbedPropDev=240.,#How much the interbed velocity varies in VP on average\n",
    "                    interbedDev=15, #How much thickness of the layer thickness change in Z\n",
    "                   interbedFreq=4, #How quickly the thickness changes in X,Y\n",
    "                   interbedThickAvg=30, #Average thickness of layers\n",
    "                   vs_ratio=.65,  #Average vs ratio for the sequence\n",
    "                   vs_dev=90,  #Spatial variation in vs\n",
    "                   rho_dev=100, # Spatial variation in rho\n",
    "                   eps_prop=.09, #Average epsilon change\n",
    "                   eps_interbedPropDev=.06, #Average Chaange in eps z\n",
    "                   eps_depthGrad=0., #Epsilon gradient\n",
    "                   eps_noiseDev=0.03, #Epsilon change in XY\n",
    "                   delta_prop=.04, #Average delta \n",
    "                   delta_interbedPropDev=.03, #Average delta change in Z\n",
    "                   delta_depthGrad=0., #Delta gradient\n",
    "                   delta_noiseDev=.02 #Delta change in XY\n",
    "                  )"
   ]
  },
  {
   "cell_type": "markdown",
   "id": "ee5c136b-154c-4082-80e7-50763fcc943a",
   "metadata": {},
   "source": [
    "## Apply the first depostion layer\n",
    "\n",
    "Notes\n",
    "- Setting Vs and rho as ratios of VP with some lateral deviation\n",
    "- epsilon, delta follow the same layer structure but are independently defined"
   ]
  },
  {
   "cell_type": "code",
   "execution_count": null,
   "id": "a0744b27-27d9-4267-9dc7-b21ad4ca5dfc",
   "metadata": {
    "scrolled": true
   },
   "outputs": [],
   "source": [
    "model=depositICN.apply(basement,thick=100,\n",
    "                       prop=4200,seed=23,\n",
    "                       vs_ratio=.65,\n",
    "                       delta_prop=.08,\n",
    "                       eps_prop=.17\n",
    "                      )\n"
   ]
  },
  {
   "cell_type": "markdown",
   "id": "a079c854-6290-4b3e-b4b7-592c3de2b597",
   "metadata": {},
   "source": [
    "## Plot vp at this stage"
   ]
  },
  {
   "cell_type": "code",
   "execution_count": null,
   "id": "13ea23d5-4d4e-4d00-a6e1-e57353620c45",
   "metadata": {
    "tags": []
   },
   "outputs": [],
   "source": [
    "plt=createPlot(model.getFloatField(\"vp\"),60,1200,500)\n",
    "plt\n"
   ]
  },
  {
   "cell_type": "markdown",
   "id": "cbd3aca7-b99b-4a4a-a050-28149739b5f7",
   "metadata": {},
   "source": [
    "# Build more of the model\n"
   ]
  },
  {
   "cell_type": "markdown",
   "id": "520f01eb-508c-4559-8b9b-8e57316bb3b9",
   "metadata": {},
   "source": [
    "## Fault the model\n",
    "\n",
    "#Loop through applying faults"
   ]
  },
  {
   "cell_type": "code",
   "execution_count": null,
   "id": "5489e7d8-9c93-4709-9b34-1d84a895fa8d",
   "metadata": {
    "scrolled": true
   },
   "outputs": [],
   "source": [
    "#Introduce lateral up-down pattern\n",
    "squished=Squish().apply(model,begFreq=70,maxShift=210,widthInLine=300,\n",
    "                        widthCrossLine=500,seed=234)\n",
    "#Depsit another layer sequence\n",
    "model=depositICN.apply(model,thick=60,prop=3500,\n",
    "                       \n",
    "                        vs_ratio=.72,\n",
    "                       rho_ratio=2300/3500,\n",
    "                       eps_prop=.12,\n",
    "                       delta_prop=.08,\n",
    "                           seed=334)\n",
    "#Deposit another layer sequence\n",
    "model=depositICN.apply(model,thick=80, \n",
    "                       prop=2800,\n",
    "                        vs_ratio=.72,\n",
    "                       rho_ratio=2300/2800,\n",
    "                       eps_prop=.12,\n",
    "                       delta_prop=.08,\n",
    "                           seed=334)\n",
    "#Introduce another up down pattern\n",
    "model=Squish().apply(model,begFreq=70,maxShift=310,widthInLine=320,\n",
    "                        widthCrossLine=500,seed=223)\n",
    "\n",
    "#Deposit another layer\n",
    "model=depositICN.apply(model,thick=3,prop=2100,\n",
    "                        vs_ratio=.61,\n",
    "                       rho_ratio=2300/2100,\n",
    "                       eps_prop=.12,\n",
    "                       delta_prop=.08,\n",
    "                           seed=205)\n",
    "#"
   ]
  },
  {
   "cell_type": "code",
   "execution_count": null,
   "id": "53f9b218-fde8-4029-930f-bcbb7e927818",
   "metadata": {
    "scrolled": true
   },
   "outputs": [],
   "source": [
    "#Create parameters for a fault sequence\n",
    "import random\n",
    "import numpy as np\n",
    "np.random.seed(22)\n",
    "nsz=30\n",
    "xs=np.random.uniform(low=.1,high=.9,size=(nsz))\n",
    "ys=np.random.uniform(low=.1,high=.9,size=(nsz))\n",
    "zs=np.random.uniform(low=.32,high=.8,size=(nsz))\n",
    "dz=np.random.uniform(low=-.03,high=.03,size=(nsz))\n",
    "angles=np.random.uniform(low=43,high=64,size=(nsz,2))\n",
    "rads=np.random.uniform(low=3850,high=5200,size=(nsz))\n",
    "shifts=np.random.uniform(low=300,high=750,size=(nsz))\n",
    "lengths=np.random.uniform(low=2.8,high=3.4,size=(nsz))\n",
    "lengths[:]*=shifts[:]\n",
    "dl=np.random.uniform(low=-40,high=40,size=(nsz))\n",
    "azimuth=np.random.uniform(low=-27,high=2,size=(nsz))\n",
    "seeds=np.random.randint(99,size=(nsz))\n",
    "dy=np.random.uniform(low=.12,high=.17,size=(nsz))\n",
    "#Deposit a small layer\n",
    "modelF=depositC.apply(model,thick=4,prop=1850,\n",
    "                        vs_ratio=.65,vs_dev=0,\n",
    "                       rho_ratio=2500/2100,rho_dev=0,\n",
    "                       eps_prop=.0,eps_interbedPropDev=.0, \n",
    "                       eps_depthGrad=0.,eps_noiseDev=0.0,\n",
    "                       delta_prop=.0,delta_interbedPropDev=.0, \n",
    "                       delta_depthGrad=0.,delta_noiseDev=.0,   \n",
    "                     )\n",
    "x=modelF.get().get_nd_array()\n",
    "print(x.min(),x.max())"
   ]
  },
  {
   "cell_type": "code",
   "execution_count": null,
   "id": "1458e5cf-1916-4a69-8753-a85cfb7bd232",
   "metadata": {
    "scrolled": true,
    "tags": []
   },
   "outputs": [],
   "source": [
    "for i in range(nsz):\n",
    "    print(f\"{i} x={xs[i]} y={ys[i]} z={zs[i]}\")\n",
    "    #Fault\n",
    "    modelF=Fault().apply(modelF,angle=angles[i,0],radius=rads[i],\n",
    "                       begy=ys[i],begx=xs[i],\\\n",
    "            azimuth=azimuth[i],seed=seeds[i],indicateI=True,\\\n",
    "        begz=zs[i],shift=shifts[i],ruptureLength=lengths[i])\n",
    "    #Add to the top of the model \n",
    "    modelF=depositC.apply(modelF,thick=1,prop=1850,\n",
    "                    vs_ratio=.65,vs_dev=0,\n",
    "                       rho_ratio=2200/2100,rho_dev=0,\n",
    "                       eps_prop=.0,eps_interbedPropDev=.0, \n",
    "                       eps_depthGrad=0.,eps_noiseDev=0.0,\n",
    "                       delta_prop=.0,delta_interbedPropDev=.0, \n",
    "                       delta_depthGrad=0.,delta_noiseDev=.0,\n",
    "                         )\n",
    "    x=modelF.get().get_nd_array()\n",
    "    print(x.min(),x.max(),x)"
   ]
  },
  {
   "cell_type": "code",
   "execution_count": null,
   "id": "1ccc6699-de27-4ce3-b3f6-a969b6df2488",
   "metadata": {
    "tags": []
   },
   "outputs": [],
   "source": [
    "x=modelF.get().get_nd_array()[543,1769,2]\n",
    "y=modelF.getLayer().get_nd_array()[543,1769,2]\n",
    "print(x.min(),x.max())\n",
    "print(y)"
   ]
  },
  {
   "cell_type": "markdown",
   "id": "aed697ab-7ab5-42bf-afcc-9eee52fbbf69",
   "metadata": {},
   "source": [
    "## Finish up"
   ]
  },
  {
   "cell_type": "code",
   "execution_count": null,
   "id": "3f3e9003-5de3-47e6-8dfc-d7b97ea010a3",
   "metadata": {
    "scrolled": true
   },
   "outputs": [],
   "source": [
    "#Deposit a water layer\n",
    "full=depositC.apply(modelF,prop=1450,\n",
    "                        vs_ratio=.0,vs_dev=0,\n",
    "                       rho_prop=1000,rho_dev=0,\n",
    "                       eps_prop=.0,eps_interbedPropDev=.0, \n",
    "                       eps_depthGrad=0.,eps_noiseDev=0.0,\n",
    "                       delta_prop=.0,delta_interbedPropDev=.0, \n",
    "                       delta_depthGrad=0.,delta_noiseDev=.0,\n",
    "                   )\n",
    "ar=full.get().get_nd_array()\n",
    "#Fix delta and epsion\n",
    "cleanup_eps_delta(full.getFloatField(\"eps\").get_nd_array(), \n",
    "                  full.getFloatField(\"delta\").get_nd_array(),\n",
    "                  .05,.8)\n",
    "\n",
    "print(ar.min(),ar.max(),logo.min(),logo.max())\n",
    "print(type(ar),type(logo))\n",
    "#Add a logo\n",
    "#add_logo(ar,logo,40,400,20,350,80)\n",
    "#write out npz\n",
    "full.writeNPZ(\"no_salt.npz\")"
   ]
  },
  {
   "cell_type": "markdown",
   "id": "8bd5f0a7-e17b-4d40-b3a9-fbf265fd5baf",
   "metadata": {},
   "source": [
    "## Plot the final model"
   ]
  },
  {
   "cell_type": "code",
   "execution_count": null,
   "id": "1381090b-ed91-4e31-8fe4-65b26c92c178",
   "metadata": {
    "tags": []
   },
   "outputs": [],
   "source": [
    "plt=createPlot(full.get(),250,1000,500)\n",
    "plt"
   ]
  },
  {
   "cell_type": "markdown",
   "id": "c189b043-2a6e-4e16-b08e-24a4101fde8d",
   "metadata": {},
   "source": [
    "## Redo with some salt"
   ]
  },
  {
   "cell_type": "code",
   "execution_count": null,
   "id": "c1e9a09b-c8ba-44e1-85c9-a8c351e1dfa1",
   "metadata": {},
   "outputs": [],
   "source": [
    "model=depositICN.apply(basement,thick=100, \n",
    "                       prop=4200,nterbedThickAvg=30,\n",
    "                       vs_ratio=.71,\n",
    "                       rho_ratio=2300/4200,\n",
    "                       eps_prop=.15,\n",
    "                       delta_prop=.08,\n",
    "                           seed=334\n",
    "                      )\n",
    "model=depositICN.apply(model,thick=60,prop=3500,\n",
    "                           vs_ratio=.72,\n",
    "                       rho_ratio=2300/3500,\n",
    "                       eps_prop=.12,\n",
    "                       delta_prop=.08,\n",
    "                           seed=3340)\n",
    "model=depositICN.apply(model,thick=80,noiseDev=30, \n",
    "                       prop=2800,\n",
    "                        vs_ratio=.6672,\n",
    "                       rho_ratio=2300/3500,\n",
    "                       eps_prop=.08,\n",
    "                       delta_prop=.07,\n",
    "                           seed=3344)\n",
    "model=Squish().apply(model,begFreq=70,maxShift=210,widthInLine=100,\n",
    "                        widthCrossLine=500,seed=223)\n",
    "model=depositICN.apply(model,thick=3,prop=2100,\n",
    "                        vs_ratio=.72,\n",
    "                       rho_ratio=2300/2100,\n",
    "                       eps_prop=.08,\n",
    "                       delta_prop=.03,\n",
    "                           seed=3534)\n",
    "import random\n",
    "import random\n",
    "import numpy as np\n",
    "np.random.seed(53)\n",
    "nsz=50\n",
    "xs=np.random.uniform(low=.2,high=.75,size=(nsz))\n",
    "ys=np.random.uniform(low=.2,high=.75,size=(nsz))\n",
    "zs=np.random.uniform(low=.35,high=.65,size=(nsz))\n",
    "dz=np.random.uniform(low=-.03,high=.03,size=(nsz))\n",
    "pdie=np.random.uniform(low=.05,high=.34,size=(nsz))\n",
    "\n",
    "angles=np.random.uniform(low=43,high=64,size=(nsz,2))\n",
    "rads=np.random.uniform(low=4850,high=5200,size=(nsz))\n",
    "shifts=np.random.uniform(low=220,high=550,size=(nsz))\n",
    "lengths=np.random.uniform(low=2.9,high=3.4,size=(nsz))\n",
    "lengths[:]*=shifts[:]\n",
    "dl=np.random.uniform(low=-40,high=40,size=(nsz))\n",
    "azimuth=np.random.uniform(low=-20,high=4,size=(nsz))\n",
    "seeds=np.random.randint(99,size=(nsz))\n",
    "dy=np.random.uniform(low=.12,high=.17,size=(nsz))\n",
    "modelF=depositC.apply(model,thick=4,prop=1850,\n",
    "                        vs_ratio=.65,vs_dev=0,\n",
    "                       rho_ratio=2500/2100,rho_dev=0,\n",
    "                       eps_prop=.0,eps_interbedPropDev=.0, \n",
    "                       eps_depthGrad=0.,eps_noiseDev=0.0,\n",
    "                       delta_prop=.0,delta_interbedPropDev=.0, \n",
    "                       delta_depthGrad=0.,delta_noiseDev=.0,   \n",
    "                     )\n",
    "for i in range(nsz):\n",
    "    print(azimuth[i],shifts[i],lengths[i])\n",
    "    print(f\"x={xs[i]} y={ys[i]} z={zs[i]}\")\n",
    "    modelF=Fault().apply(modelF,angle=angles[i,0],radius=rads[i],perp_die=pdie[i],\n",
    "                       begy=ys[i],begx=xs[i],\\\n",
    "            azimuth=azimuth[i],seed=seeds[i],indicateI=True,\\\n",
    "        begz=zs[i],shift=shifts[i],ruptureLength=lengths[i])\n",
    "\n",
    "    modelF=depositC.apply(modelF,thick=1,prop=1850,\n",
    "                        vs_ratio=.65,vs_dev=0,\n",
    "                       rho_ratio=2500/1850,rho_dev=0,\n",
    "                       eps_prop=.0,eps_interbedPropDev=.0, \n",
    "                       eps_depthGrad=0.,eps_noiseDev=0.0,\n",
    "                       delta_prop=.0,delta_interbedPropDev=.0, \n",
    "                       delta_depthGrad=0.,delta_noiseDev=.0,   \n",
    "                     )\n"
   ]
  },
  {
   "cell_type": "markdown",
   "id": "67909121-d100-4779-a655-21d9bd6fcbb3",
   "metadata": {},
   "source": [
    "#Add the salt layer"
   ]
  },
  {
   "cell_type": "code",
   "execution_count": null,
   "id": "3bec21a2-4026-48a7-970c-345f3e7fdae1",
   "metadata": {},
   "outputs": [],
   "source": [
    "from synthetic_model import Salt\n",
    "salt=Salt().apply(modelF,applyHills=True,\\\n",
    "            salt_value={\"vp\":4500,\"vs\":2700,\"rho\":2300,\"eps\":0,\"delta\":0.\n",
    "                       },thickness=.09,mid_salt_depth=.3,amplitude_top=.2,\n",
    "                  beg2=.45,end2=.52,beg3=.45,end3=.55, seed=2,dieF=.1,\n",
    "                  amplitude_bot=.2,beg_freq_top=15.,n_octaves_top=6,beg_freq_bot=7)\n",
    "\n",
    "water=depositC.apply(salt,prop=1450,\n",
    "                        vs_ratio=.0,vs_dev=0,\n",
    "                       rho_prop=1000,rho_dev=0,\n",
    "                       eps_prop=.0,eps_interbedPropDev=.0, \n",
    "                       eps_depthGrad=0.,eps_noiseDev=0.0,\n",
    "                       delta_prop=.0,delta_interbedPropDev=.0, \n",
    "                       delta_depthGrad=0.,delta_noiseDev=.0,\n",
    "                   )\n",
    "ar=full.get().get_nd_array()\n",
    "cleanup_eps_delta(water.getFloatField(\"eps\").get_nd_array(), \n",
    "                  water.getFloatField(\"delta\").get_nd_array(),\n",
    "                  .05,.8)"
   ]
  },
  {
   "cell_type": "code",
   "execution_count": null,
   "id": "c425f382-d79f-4f77-b4da-f8aae9cb64c5",
   "metadata": {},
   "outputs": [],
   "source": [
    "ar=water.get().get_nd_array()\n",
    "\n",
    "#add_logo(ar,logo,40,400,20,350,240)\n",
    "water.writeNPZ(\"salt.npz\")"
   ]
  },
  {
   "cell_type": "code",
   "execution_count": null,
   "id": "c1b2b98a-ad1a-4c9c-b36f-3d518acf0fe5",
   "metadata": {
    "tags": []
   },
   "outputs": [],
   "source": [
    "plt=createPlot(water.get(),250,1000,500)\n",
    "plt\n"
   ]
  },
  {
   "cell_type": "code",
   "execution_count": null,
   "id": "27c2a9af-2f9a-4d5c-9be4-1db14aacf819",
   "metadata": {},
   "outputs": [],
   "source": []
  },
  {
   "cell_type": "code",
   "execution_count": null,
   "id": "0dfe4f15-f18f-42b5-9e7c-8431adb8a95c",
   "metadata": {},
   "outputs": [],
   "source": []
  }
 ],
 "metadata": {
  "environment": {
   "kernel": "python3",
   "name": "common-cpu.m112",
   "type": "gcloud",
   "uri": "gcr.io/deeplearning-platform-release/base-cpu:m112"
  },
  "kernelspec": {
   "display_name": "Python 3",
   "language": "python",
   "name": "python3"
  },
  "language_info": {
   "codemirror_mode": {
    "name": "ipython",
    "version": 3
   },
   "file_extension": ".py",
   "mimetype": "text/x-python",
   "name": "python",
   "nbconvert_exporter": "python",
   "pygments_lexer": "ipython3",
   "version": "3.10.12"
  }
 },
 "nbformat": 4,
 "nbformat_minor": 5
}
