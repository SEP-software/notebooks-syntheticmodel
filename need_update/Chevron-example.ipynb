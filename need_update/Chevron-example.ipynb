{
 "cells": [
  {
   "cell_type": "code",
   "execution_count": null,
   "id": "2ce25830",
   "metadata": {},
   "outputs": [],
   "source": [
    "import syntheticModel\n",
    "# make a hypercube \n",
    "ny,oy,dy = 1500, 0, 5\n",
    "nx,ox,dx = 100, 0, 5\n",
    "nz,oz,dz = 30, 0, 5\n",
    "x_axis = syntheticModel.axis(n=nx, o=ox, d=dx)\n",
    "y_axis = syntheticModel.axis(n=ny, o=oy, d=dy)\n",
    "z_axis = syntheticModel.axis(n=nz, o=oz, d=dz)\n",
    "hyper = syntheticModel.hypercube(axes=[z_axis,y_axis,x_axis])\n",
    "\n",
    "# make a dictionary of elastic parameters \n",
    "basement = {\"vp\":5000}\n",
    "\n",
    "# set the primary value \n",
    "primary = \"vp\"\n",
    "\n",
    "# initialize the geomodel\n",
    "geomodel = syntheticModel.geoModel(hyper,basement,primary)"
   ]
  },
  {
   "cell_type": "code",
   "execution_count": null,
   "id": "0f853861",
   "metadata": {},
   "outputs": [],
   "source": [
    "import matplotlib.pyplot as plt      \n",
    "basicDeposit=syntheticModel.deposit(thick=400, interbedThickAvg=70, \n",
    "                 interbedThickDev=22, interbedPropDev=100, \\\n",
    "                           noiseDev=40,noisePersistence=.8,\n",
    "                 depthGrad=2)\n",
    "geomodel=basicDeposit.apply(geomodel, thick=200,prop=4800)\n",
    "geomodel=basicDeposit.apply(geomodel, thick=170,prop=4100)\n",
    "\n",
    "plt.imshow(geomodel.get().getNdArray()[50,:,:].T,cmap=\"jet\",aspect=\"auto\")\n",
    "plt.colorbar()"
   ]
  },
  {
   "cell_type": "code",
   "execution_count": null,
   "id": "f09fc486",
   "metadata": {},
   "outputs": [],
   "source": [
    "geomodel=syntheticModel.squish(widthInLine=12000,widthCrossLine=2000,maxShift=500,\\\n",
    "                      begFreq=1.,nfreq=2,seed=22).apply(geomodel)\n",
    "geomodel=basicDeposit.apply(geomodel, thick=80,prop=3700)\n",
    "geomodel=basicDeposit.apply(geomodel, thick=90,prop=2800)\n",
    "geomodel=basicDeposit.apply(geomodel, thick=60,prop=2300)\n",
    "geomodel=basicDeposit.apply(geomodel, thick=40,prop=2100)\n",
    "\n",
    "plt.imshow(geomodel.get().getNdArray()[50,:,:].T,cmap=\"jet\",aspect=\"auto\")\n",
    "plt.colorbar()                        \n",
    "\n"
   ]
  },
  {
   "cell_type": "code",
   "execution_count": null,
   "id": "49c758c7",
   "metadata": {},
   "outputs": [],
   "source": [
    "import random\n",
    "\n",
    "faultOp=syntheticModel.fault(begy=.5,zpos=2000.,\n",
    "                    begx=.5,azimuth=0, ruptureLength=600,\n",
    "                    extentInLine=1200,extentCrossline=800,shift=300,\n",
    "                    angle=15,radius=2000)\n",
    "def faultIt(basicOp,model,ypos:tuple=(.1,.9),length:tuple=(400,800),\n",
    "            shift:tuple=(100,400),angle:tuple=(10,18), \n",
    "            radius:tuple=(1900,2100),xpos:tuple=(.1,.9),zpos:tuple=(.1,.9)):\n",
    "    length=random.uniform(length[0],length[1])\n",
    "    return basicOp.apply(model,begy=random.uniform(ypos[0],ypos[1]),\n",
    "                         ruptureLength=length,\n",
    "                         extentInline=length*2.,\n",
    "                         extentCrossline=length*2,\n",
    "                         shift=random.uniform(.1,.2)*length,\n",
    "                         angle=random.uniform(angle[0],angle[1]),\n",
    "                         begz=random.uniform(zpos[0],zpos[1]) \n",
    "                        )\n",
    "for i in range(3):\n",
    "    geomodel=faultIt(faultOp,geomodel,zpos=(.7,.9))\n",
    "\n",
    "for i in range(5):\n",
    "    geomodel=faultIt(faultOp,geomodel,xpos=(.04,.3))\n",
    "\n",
    "geomodel=syntheticModel.deposit(prop=2100,thick=20).apply(geomodel)\n",
    "  \n",
    "plt.imshow(geomodel.get().getNdArray()[50,:,:].T,cmap=\"jet\",aspect=\"auto\")\n"
   ]
  },
  {
   "cell_type": "code",
   "execution_count": null,
   "id": "6cd09926",
   "metadata": {},
   "outputs": [],
   "source": [
    "saltF=syntheticModel.salt(salt_value={\"vp\":4500},seed=29,thickness=.25,\\\n",
    "                     n_octaves_bot=1,n_octaves_top=4, beg2=.3,beg_freq=1.,                    \n",
    "                     saveSalt=True)\n",
    "geomodel2=saltF.apply(geomodel)\n",
    "withWater=syntheticModel.deposit(prop=1450,thick=60).apply(geomodel2)\n",
    "plt.imshow(withWater.get().getNdArray()[50,:,:].T,cmap=\"jet\",aspect=\"auto\")\n"
   ]
  },
  {
   "cell_type": "code",
   "execution_count": null,
   "id": "a0a9d4c2",
   "metadata": {},
   "outputs": [],
   "source": [
    "import scipy as sp\n",
    "import scipy.ndimage\n",
    "import numba\n",
    "import numpy as np\n",
    "\n",
    "@numba.jit(parallel=True)\n",
    "def padIt(array,ext2,ext1):\n",
    "    for i2 in numba.prange(ext2):\n",
    "        for i1 in numba.prange(array.shape[1]):\n",
    "            array[i2,i1]=array[ext2,i1]\n",
    "            array[array.shape[0]-i2-1,i1]=array[array.shape[0]-ext2-1,i1]\n",
    "    for i2  in numba.prange(array.shape[0]):\n",
    "        for i1 in numba.prange(ext1):\n",
    "            array[i2,i1]=array[i2,ext1]\n",
    "            array[i2,array.shape[1]-i1-1]=array[i2,array.shape[1]-ext1-1]\n",
    "            \n",
    "@numba.njit(parallel=True)\n",
    "def smoothAddSaltWater(velS,waterThick,saltV,saltM):\n",
    "\n",
    "    out=np.zeros((velS.shape[0],velS.shape[1]+waterThick))\n",
    "    for i2 in numba.prange(velS.shape[0]):\n",
    "        for i1 in range(waterThick):\n",
    "            out[i2,i1]=1450.\n",
    "        for i1 in range(velS.shape[1]):\n",
    "            if saltM[i2,i1]>0.:\n",
    "                out[i2,i1+waterThick]=saltV\n",
    "            else:\n",
    "                out[i2,i1+waterThick]=velS[i2,i1]\n",
    "    return out\n",
    "\n",
    "def padSmoothWater(sigma1,sigma2,vel,waterThick,saltV,saltM):\n",
    "    ext1=sigma1*2\n",
    "    ext2=sigma2*2\n",
    "    velB=np.zeros((vel.shape[0]+2*ext1,vel.shape[1]+ext2*2))\n",
    "    velB[ext1:ext1+vel.shape[0],ext2:ext2+vel.shape[1]]=vel\n",
    "    padIt(velB,ext1,ext2)\n",
    "    sigma=[sigma1,sigma2]\n",
    "    velB=sp.ndimage.gaussian_filter(velB,sigma,mode=\"constant\")\n",
    "    return smoothAddSaltWater(velB[ext1:ext1+vel.shape[0],ext2:ext2+vel.shape[1]],\\\n",
    "        waterThick,saltV,saltM)\n",
    "#sigma = [25, 20]\n",
    "#velS = sp.ndimage.gaussian_filter(geomodel.get().getNdArray()[50,:,:], sigma, mode='constant')           \n",
    "smoothed=padSmoothWater(25,20,geomodel.get().getNdArray()[50,:,:],70,4500.,\\\n",
    "                        saltF.salt[0][50,:,:])\n",
    "plt.imshow(smoothed.T,cmap=\"jet\",aspect=\"auto\")"
   ]
  },
  {
   "cell_type": "code",
   "execution_count": null,
   "id": "1e089b7b",
   "metadata": {},
   "outputs": [],
   "source": [
    "plt.imshow(withWater.get().getNdArray()[50,:,:].T,cmap=\"jet\",aspect=\"auto\")\n"
   ]
  },
  {
   "cell_type": "code",
   "execution_count": null,
   "id": "faba8f9b",
   "metadata": {},
   "outputs": [],
   "source": []
  },
  {
   "cell_type": "code",
   "execution_count": null,
   "id": "5097182b",
   "metadata": {},
   "outputs": [],
   "source": []
  },
  {
   "cell_type": "code",
   "execution_count": null,
   "id": "27fa7760",
   "metadata": {},
   "outputs": [],
   "source": []
  },
  {
   "cell_type": "code",
   "execution_count": null,
   "id": "e0d77a82",
   "metadata": {},
   "outputs": [],
   "source": []
  }
 ],
 "metadata": {
  "environment": {
   "kernel": "python3",
   "name": "common-cpu.m112",
   "type": "gcloud",
   "uri": "gcr.io/deeplearning-platform-release/base-cpu:m112"
  },
  "kernelspec": {
   "display_name": "Python 3",
   "language": "python",
   "name": "python3"
  },
  "language_info": {
   "codemirror_mode": {
    "name": "ipython",
    "version": 3
   },
   "file_extension": ".py",
   "mimetype": "text/x-python",
   "name": "python",
   "nbconvert_exporter": "python",
   "pygments_lexer": "ipython3",
   "version": "3.10.12"
  }
 },
 "nbformat": 4,
 "nbformat_minor": 5
}
