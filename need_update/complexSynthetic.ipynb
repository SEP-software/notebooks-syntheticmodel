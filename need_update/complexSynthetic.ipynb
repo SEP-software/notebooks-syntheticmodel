{
 "cells": [
  {
   "cell_type": "code",
   "execution_count": null,
   "id": "2869e810",
   "metadata": {},
   "outputs": [],
   "source": [
    "import numpy as np\n",
    "import syntheticModel.Hypercube\n",
    "def createPlot(data,p1,p2,p3):\n",
    "    if isinstance(data,np.ndarray):\n",
    "        fld=data\n",
    "        hyper=syntheticModel.hypercube(ns=[data.shape[2],data.shape[1],data.shape[0]])\n",
    "    else:\n",
    "        fld=data.getNdArray()\n",
    "        hyper=data.getHyper()\n",
    "    ax1=hyper.axes[0]\n",
    "    ax2=hyper.axes[1]\n",
    "    ax3=hyper.axes[2]\n",
    "    mn=fld.min()\n",
    "    mx=fld.max()\n",
    "    front=fld[p3,:,::-1].T\n",
    "    top=fld[::-1,:,p1]\n",
    "    side=fld[:,p2,::-1].T\n",
    "    b=(ax1.o,ax1.o+ax1.d*(ax1.n-1),ax2.o,ax2.o+ax2.d*(ax2.n-1))\n",
    "    frontF=hv.Image(front,kdims=[\"X\",\"Z\"],bounds=(ax2.o,ax1.o,ax2.o+ax2.d*(ax2.n-1),ax1.o+ax1.d*(ax1.n-1))).opts(\\\n",
    "             cmap=\"gist_rainbow\",clim=(mn,mx),toolbar=None,invert_yaxis=True,aspect=1,axiswise=True)\n",
    "    sideF=hv.Image(side,kdims=[\"Y\",\"Z\"],bounds=(ax3.o,ax1.o,ax3.o+ax3.d*(ax3.n-1),ax1.o+ax1.d*(ax1.n-1))).opts(\\\n",
    "             cmap=\"gist_rainbow\",clim=(mn,mx),toolbar=None,yaxis=None,invert_yaxis=True,aspect=1.,axiswise=True)\n",
    "    topF=hv.Image(top,kdims=[\"X\",\"Y\"],bounds=(ax2.o,ax2.o,ax2.o+ax2.d*(ax2.n-1),ax3.o+ax3.d*(ax3.n-1))).opts(\\\n",
    "             cmap=\"gist_rainbow\",clim=(mn,mx),toolbar=None,xaxis=None,aspect=1,axiswise=True)\n",
    "    botF=hv.Layout(frontF+sideF).opts(toolbar=None)\n",
    "    tot=hv.Layout(topF+hv.Empty()+frontF+sideF).cols(2).opts(toolbar=None)\n",
    "    return tot\n",
    "    "
   ]
  },
  {
   "cell_type": "code",
   "execution_count": null,
   "id": "c493e90e",
   "metadata": {},
   "outputs": [],
   "source": [
    "import numpy as np\n",
    "import syntheticModel.Hypercube\n",
    "def faultFig(data,p1,p2,p3,useMe=None):\n",
    "    if isinstance(useMe,np.ndarray):\n",
    "        fld=useMe\n",
    "    else:\n",
    "        fld=data.get().getNdArray()\n",
    "    ind=data.getIntField(\"indicator\").getNdArray()\n",
    "    hyper=data.get().getHyper()\n",
    "    ax1=hyper.axes[0]\n",
    "    ax2=hyper.axes[1]\n",
    "    ax3=hyper.axes[2]\n",
    "    mn=fld.min()\n",
    "    mx=fld.max()\n",
    "    front=fld[p3,:,::-1].T\n",
    "    top=fld[::-1,:,p1]\n",
    "    side=fld[:,p2,::-1].T\n",
    "    \n",
    "    IndFront=ind[p3,:,::-1].T\n",
    "    IndTop=ind[::-1,:,p1]\n",
    "    IndSide=ind[:,p2,::-1].T\n",
    "    \n",
    "    zF=np.zeros(IndFront.shape)\n",
    "    zS=np.zeros(IndSide.shape)\n",
    "    zT=np.zeros(IndTop.shape)\n",
    "\n",
    "    b=(ax1.o,ax1.o+ax1.d*(ax1.n-1),ax2.o,ax2.o+ax2.d*(ax2.n-1))\n",
    "    frontF=hv.Image(front,kdims=[\"X\",\"Z\"],bounds=(ax2.o,ax1.o,ax2.o+ax2.d*(ax2.n-1),ax1.o+ax1.d*(ax1.n-1))).opts(\\\n",
    "             cmap=\"gist_gray\",clim=(mn,mx),toolbar=None,invert_yaxis=True,aspect=1,axiswise=True)\n",
    "    sideF=hv.Image(side,kdims=[\"Y\",\"Z\"],bounds=(ax3.o,ax1.o,ax3.o+ax3.d*(ax3.n-1),ax1.o+ax1.d*(ax1.n-1))).opts(\\\n",
    "             cmap=\"gist_gray\",clim=(mn,mx),toolbar=None,yaxis=None,invert_yaxis=True,aspect=1.,axiswise=True)\n",
    "    topF=hv.Image(top,kdims=[\"X\",\"Y\"],bounds=(ax2.o,ax2.o,ax2.o+ax2.d*(ax2.n-1),ax3.o+ax3.d*(ax3.n-1))).opts(\\\n",
    "             cmap=\"gist_gray\",clim=(mn,mx),toolbar=None,xaxis=None,aspect=1,axiswise=True)\n",
    "    \n",
    "    m=np.dstack([zF,IndFront,zF,IndFront])\n",
    "    print(m.shape)\n",
    "    \n",
    "    frontI=hv.RGB(np.dstack([zF,IndFront,zF,IndFront]),kdims=[\"X\",\"Z\"],bounds=(ax2.o,ax1.o,ax2.o+ax2.d*(ax2.n-1),ax1.o+ax1.d*(ax1.n-1))).opts(\\\n",
    "             toolbar=None,invert_yaxis=True,aspect=1,axiswise=True)\n",
    "    sideI=hv.RGB(np.dstack([zF,IndFront,zF,IndFront]),kdims=[\"Y\",\"Z\"],bounds=(ax3.o,ax1.o,ax3.o+ax3.d*(ax3.n-1),ax1.o+ax1.d*(ax1.n-1))).opts(\\\n",
    "             toolbar=None,yaxis=None,invert_yaxis=True,aspect=1.,axiswise=True)\n",
    "    topI=hv.RGB(np.dstack([zF,IndFront,zF,IndFront]),kdims=[\"X\",\"Y\"],bounds=(ax2.o,ax2.o,ax2.o+ax2.d*(ax2.n-1),ax3.o+ax3.d*(ax3.n-1))).opts(\\\n",
    "             toolbar=None,xaxis=None,aspect=1,axiswise=True)\n",
    "    \n",
    "    botF=hv.Layout(frontI*frontF+sideF*sideI).opts(toolbar=None)\n",
    "    tot=hv.Layout(topF*topI+hv.Empty()+frontF*frontI+sideF*sideI).cols(2).opts(toolbar=None)\n",
    "    return tot\n",
    "    "
   ]
  },
  {
   "cell_type": "code",
   "execution_count": null,
   "id": "567fbebf",
   "metadata": {},
   "outputs": [],
   "source": [
    "import syntheticModel\n",
    "import holoviews as hv\n",
    "hv.extension(\"bokeh\",\"matplotlib\",logo=False)\n",
    "\n",
    "hyper=syntheticModel.hypercube(ns=[20,800,800],os=[0,0,0],ds=[5,5,5])\n",
    "basement=syntheticModel.geoModel(hyper,{\"vp\":5000.},\"vp\")"
   ]
  },
  {
   "cell_type": "code",
   "execution_count": null,
   "id": "971e1c91",
   "metadata": {},
   "outputs": [],
   "source": [
    "depositC=syntheticModel.deposit()  #Constant velocity\n",
    "depositI=syntheticModel.deposit(interbedThick=20.,interbedThickDev=13.,interbedPropDev=100.) #Interbeded layer\n",
    "depositN=syntheticModel.deposit(noiseDev=300.) #Add some noise to constant velocity\\\n",
    "depositIC=syntheticModel.deposit(interbedThick=15.,interbedThickDev=13.,interbedPropDev=100.,interbedDev=4.) #Interbed with noise\n",
    "depositICN=syntheticModel.deposit(noiseDev=120,interbedThick=15.,\\\n",
    "                                  interbedThickDev=13.,noiseFrequency=3,noiseZStretch=10,interbedPropDev=100.,\n",
    "                                  interbedDev=4.)"
   ]
  },
  {
   "cell_type": "code",
   "execution_count": null,
   "id": "bea2c3eb",
   "metadata": {
    "scrolled": true
   },
   "outputs": [],
   "source": [
    "first=depositICN.apply(basement,thick=100, prop=3200,seed=23,interbedThickDev=0,depthGrad=15,interbedDev=0,interbedPropDev=190.)\n",
    "plt=createPlot(first.get(),40,400,400)\n",
    "plt"
   ]
  },
  {
   "cell_type": "code",
   "execution_count": null,
   "id": "754fd05e",
   "metadata": {},
   "outputs": [],
   "source": [
    "squished2=syntheticModel.squish().apply(first,begFreq=34,maxShift=90,seed=355)\n",
    "squished2=depositIC.apply(squished2,thick=10, prop=2800, \\\n",
    "                          seed=123,interbedThickDev=0,depthGrad=10,interbedDev=0,\\\n",
    "                          interbedPropDev=160.)\n",
    "\n",
    "plt=createPlot(squished2.get(),50,400,400)\n",
    "plt"
   ]
  },
  {
   "cell_type": "code",
   "execution_count": null,
   "id": "53112598",
   "metadata": {},
   "outputs": [],
   "source": [
    "update=depositICN.apply(squished2,thick=200, prop=2200,seed=213,depthGrad=15,\n",
    "    interbedThickDev=0,interbedDev=0,interbedPropDev=163.)       \n",
    "                        \n",
    "plt=createPlot(update.get(),40,400,400)\n",
    "plt"
   ]
  },
  {
   "cell_type": "code",
   "execution_count": null,
   "id": "67de832f",
   "metadata": {},
   "outputs": [],
   "source": [
    "squished3=syntheticModel.squish().apply(update,begFreq=24,maxShift=270,seed=535)\n",
    "squished3=depositC.apply(squished3,thick=10, prop=1850,seed=313)\n",
    "water=depositC.apply(squished3,prop=1450,thick=50)\n",
    "plt=createPlot(water.get(),170,400,400)\n",
    "\n",
    "plt"
   ]
  },
  {
   "cell_type": "code",
   "execution_count": null,
   "id": "a43ffc79",
   "metadata": {},
   "outputs": [],
   "source": []
  },
  {
   "cell_type": "code",
   "execution_count": null,
   "id": "8014c818",
   "metadata": {},
   "outputs": [],
   "source": []
  },
  {
   "cell_type": "code",
   "execution_count": null,
   "id": "65c09df2",
   "metadata": {},
   "outputs": [],
   "source": [
    "dep3=depositC.apply(squished3,thick=1, prop=1850,seed=58)\n",
    "np.random.seed(99)\n",
    "xs=np.random.uniform(low=.23,high=.77,size=(15))\n",
    "ys=np.random.uniform(low=.3,high=.77,size=(15))\n",
    "zs=np.random.uniform(low=.27,high=.34,size=(15))\n",
    "dz=np.random.uniform(low=-.03,high=.03,size=(15))\n",
    "angles=np.random.uniform(low=55,high=64,size=(15,2))\n",
    "rads=np.random.uniform(low=1850,high=2150,size=(15))\n",
    "shifts=np.random.uniform(low=100,high=120,size=(15))\n",
    "lengths=np.random.uniform(low=210,high=280,size=(15))\n",
    "dl=np.random.uniform(low=-40,high=40,size=(15))\n",
    "azimuth=np.random.uniform(low=-2,high=2,size=(15))\n",
    "seeds=np.random.randint(99,size=(15))\n",
    "dy=np.random.uniform(low=.12,high=.17,size=(15))\n"
   ]
  },
  {
   "cell_type": "code",
   "execution_count": null,
   "id": "3bbb120c",
   "metadata": {},
   "outputs": [],
   "source": [
    "dep4=depositC.apply(dep3,thick=30,prop=1850)\n",
    "for i in range(15):\n",
    "    print(i)\n",
    "    print(f\"x={xs[i]} y={ys[i]} z={zs[i]}\")\n",
    "    dep4=syntheticModel.fault().apply(dep4,angle=angles[i,0],radius=rads[i],begy=ys[i],begx=xs[i],\\\n",
    "            azimuth=azimuth[i],seed=seeds[i],indicateI=True,\\\n",
    "        begz=zs[i],shift=shifts[i],ruptureLength=lengths[i])\n",
    "    dep4=syntheticModel.fault().apply(dep4,angle=-angles[i,1],radius=rads[i],begy=ys[i]-dy[i],begx=xs[i],\\\n",
    "            azimuth=azimuth[i],seed=seeds[i],dir=-1,indicateI=True,\\\n",
    "        begz=zs[i],shift=shifts[i]+dl[i],ruptureLength=lengths[i]+dl[i])\n",
    "    dep4=depositC.apply(dep4,thick=1,prop=1850)\n"
   ]
  },
  {
   "cell_type": "code",
   "execution_count": null,
   "id": "7e7e39f4",
   "metadata": {},
   "outputs": [],
   "source": [
    "print(dep4.get().getNdArray().shape)"
   ]
  },
  {
   "cell_type": "code",
   "execution_count": null,
   "id": "6d1c0f92",
   "metadata": {},
   "outputs": [],
   "source": [
    "\n",
    "depX=syntheticModel.erodeFlat().applyBase(dep4,depth=170)\n",
    "depX=depositC.apply(depX,thick=1,prop=1850)\n",
    "plt=createPlot(depX.get(),200,400,400)\n",
    "plt"
   ]
  },
  {
   "cell_type": "code",
   "execution_count": null,
   "id": "e986772b",
   "metadata": {},
   "outputs": [],
   "source": [
    "x=hv.Image(squished3.get().getNdArray()[400,0:40,100:140].T).opts(cmap=\"gist_gray\")\n",
    "x"
   ]
  },
  {
   "cell_type": "code",
   "execution_count": null,
   "id": "b247cf12",
   "metadata": {},
   "outputs": [],
   "source": [
    "ns=4\n",
    "nb=10\n",
    "dep5=depositC.apply(dep4,thick=1, prop=1450,seed=58)\n",
    "np.random.seed(99)\n",
    "xs=np.random.uniform(low=.1,high=.9,size=(ns,nb))\n",
    "ys=np.random.uniform(low=.1,high=.9,size=(ns,nb))\n",
    "zs=np.random.uniform(low=.4,high=.9,size=(ns,nb))\n",
    "angles=np.random.uniform(low=32,high=44,size=(ns,nb))\n",
    "rads=np.random.uniform(low=1850,high=2150,size=(ns,nb))\n",
    "shifts=np.random.uniform(low=130,high=160,size=(ns,nb))\n",
    "lengths=np.random.uniform(low=300,high=440,size=(ns,nb))\n",
    "azimuth=np.random.uniform(low=12,high=23,size=(ns,nb))\n",
    "seeds=np.random.randint(99,size=(ns,nb))\n"
   ]
  },
  {
   "cell_type": "code",
   "execution_count": null,
   "id": "c7954735",
   "metadata": {},
   "outputs": [],
   "source": [
    "import syntheticModel.fault as fault\n",
    "dep6=depositC.apply(dep5,thick=1, prop=1850,seed=86)\n",
    "\n",
    "for i in range(xs.shape[0]):\n",
    "    for j in range(xs.shape[1]):\n",
    "        print(\"working on\",j,i)\n",
    "        dep6=syntheticModel.fault().apply(dep6,angle=angles[i,j],radius=rads[i,j],begx=xs[i,j],begy=ys[i,j],\\\n",
    "                            azimuth=azimuth[i,j],seed=seeds[i,j],\\\n",
    "        begz=zs[i,j],indicateI=True,shift=shifts[i,j],ruptureLength=lengths[i,j])\n",
    "\n",
    "    dep6=depositC.apply(dep6,thick=1,prop=1850)\n",
    "\n",
    "dep6=syntheticModel.erodeFlat().apply(dep6,depth=150)\n",
    "dep6=syntheticModel.deposit().apply(dep6,prop=1850,thick=1)\n",
    "    \n",
    "plt=createPlot(dep6.get(),120,340,490)\n",
    "plt"
   ]
  },
  {
   "cell_type": "code",
   "execution_count": null,
   "id": "c02062de",
   "metadata": {},
   "outputs": [],
   "source": [
    "fig=faultFig(dep4,160,450,450)\n",
    "fig"
   ]
  },
  {
   "cell_type": "code",
   "execution_count": null,
   "id": "0698c286",
   "metadata": {},
   "outputs": [],
   "source": [
    "fig=faultFig(dep6,160,450,450)\n",
    "fig"
   ]
  },
  {
   "cell_type": "code",
   "execution_count": null,
   "id": "6066c4cf",
   "metadata": {},
   "outputs": [],
   "source": [
    "ref=syntheticModel.reflectivity(dep6.get().getNdArray())\n",
    "fig=faultFig(dep6,160,450,450,useMe=ref)\n",
    "fig"
   ]
  },
  {
   "cell_type": "code",
   "execution_count": null,
   "id": "41057bfc",
   "metadata": {},
   "outputs": [],
   "source": [
    "import scipy\n",
    "def convolveExpand(ref,hwidth,sz):\n",
    "    wave=scipy.signal.ricker(hwidth*2,sz)\n",
    "    bigS=list(ref.shape)\n",
    "    bigS[2]=bigS[2]+hwidth*2\n",
    "    big=np.zeros(bigS)\n",
    "    big[:,:,hwidth:hwidth+ref.shape[2]]=ref\n",
    "    syntheticModel.convolve(big,wave)\n",
    "    return big[:,:,hwidth:hwidth+ref.shape[2]]\n",
    "data2=convolveExpand(ref,64,8)\n",
    "print(data2.min(),data2.max())"
   ]
  },
  {
   "cell_type": "code",
   "execution_count": null,
   "id": "f9526969",
   "metadata": {},
   "outputs": [],
   "source": [
    "ref3=np.clip(data2,-1000,1000)\n",
    "fig=faultFig(dep6,160,450,450,useMe=ref3)\n",
    "fig"
   ]
  },
  {
   "cell_type": "code",
   "execution_count": null,
   "id": "5a26c164",
   "metadata": {},
   "outputs": [],
   "source": [
    "x=hv.Image(dep6.get().getNdArray()[400,0:40,100:140].T).opts(cmap=\"gist_gray\")\n",
    "x"
   ]
  },
  {
   "cell_type": "code",
   "execution_count": null,
   "id": "8b3b738a",
   "metadata": {},
   "outputs": [],
   "source": [
    "x=hv.Image(f.get().getNdArray()[400,:,:].T).opts(cmap=\"gist_gray\")\n",
    "x"
   ]
  },
  {
   "cell_type": "code",
   "execution_count": null,
   "id": "501f0bb7",
   "metadata": {},
   "outputs": [],
   "source": [
    "x=hv.Image(f.getIntField(\"layer\").getNdArray()[400,:,:].T).opts(cmap=\"gist_gray\")\n",
    "x"
   ]
  },
  {
   "cell_type": "code",
   "execution_count": null,
   "id": "8c88ba5d",
   "metadata": {},
   "outputs": [],
   "source": []
  },
  {
   "cell_type": "code",
   "execution_count": null,
   "id": "4a6ecf3a",
   "metadata": {},
   "outputs": [],
   "source": []
  },
  {
   "cell_type": "code",
   "execution_count": null,
   "id": "420b2f5b",
   "metadata": {},
   "outputs": [],
   "source": []
  }
 ],
 "metadata": {
  "environment": {
   "kernel": "python3",
   "name": "common-cpu.m112",
   "type": "gcloud",
   "uri": "gcr.io/deeplearning-platform-release/base-cpu:m112"
  },
  "kernelspec": {
   "display_name": "Python 3",
   "language": "python",
   "name": "python3"
  },
  "language_info": {
   "codemirror_mode": {
    "name": "ipython",
    "version": 3
   },
   "file_extension": ".py",
   "mimetype": "text/x-python",
   "name": "python",
   "nbconvert_exporter": "python",
   "pygments_lexer": "ipython3",
   "version": "3.10.12"
  }
 },
 "nbformat": 4,
 "nbformat_minor": 5
}
