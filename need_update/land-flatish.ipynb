{
 "cells": [
  {
   "cell_type": "markdown",
   "id": "c0495eac",
   "metadata": {},
   "source": [
    "# Simple land synthetic\n",
    "\n",
    "An example of creating a simple land elastic synthetic. First a function for plotting."
   ]
  },
  {
   "cell_type": "code",
   "execution_count": null,
   "id": "1d0c4d25",
   "metadata": {},
   "outputs": [],
   "source": [
    "import numpy as np\n",
    "def createPlot(data,p1,p2,p3):\n",
    "    if isinstance(data,np.ndarray):\n",
    "        fld=data\n",
    "        hyper=Hypercube.hypercube(ns=[data.shape[2],data.shape[1],data.shape[0]])\n",
    "    else:\n",
    "        fld=data.getNdArray()\n",
    "        hyper=data.getHyper()\n",
    "    ax1=hyper.axes[0]\n",
    "    ax2=hyper.axes[1]\n",
    "    ax3=hyper.axes[2]\n",
    "    mn=fld.min()\n",
    "    mx=fld.max()\n",
    "    front=fld[p3,:,::-1].T\n",
    "    top=fld[::-1,:,p1]\n",
    "    side=fld[:,p2,::-1].T\n",
    "    b=(ax1.o,ax1.o+ax1.d*(ax1.n-1),ax2.o,ax2.o+ax2.d*(ax2.n-1))\n",
    "    frontF=hv.Image(front,kdims=[\"X\",\"Z\"],bounds=(ax2.o,ax1.o,ax2.o+ax2.d*(ax2.n-1),ax1.o+ax1.d*(ax1.n-1))).opts(\\\n",
    "             cmap=\"gist_rainbow\",clim=(mn,mx),toolbar=None,invert_yaxis=True,aspect=1,axiswise=True)\n",
    "    sideF=hv.Image(side,kdims=[\"Y\",\"Z\"],bounds=(ax3.o,ax1.o,ax3.o+ax3.d*(ax3.n-1),ax1.o+ax1.d*(ax1.n-1))).opts(\\\n",
    "             cmap=\"gist_rainbow\",clim=(mn,mx),toolbar=None,yaxis=None,invert_yaxis=True,aspect=1.,axiswise=True)\n",
    "    topF=hv.Image(top,kdims=[\"X\",\"Y\"],bounds=(ax2.o,ax2.o,ax2.o+ax2.d*(ax2.n-1),ax3.o+ax3.d*(ax3.n-1))).opts(\\\n",
    "             cmap=\"gist_rainbow\",clim=(mn,mx),toolbar=None,xaxis=None,aspect=1,axiswise=True)\n",
    "    botF=hv.Layout(frontF+sideF).opts(toolbar=None)\n",
    "    tot=hv.Layout(topF+hv.Empty()+frontF+sideF).cols(2).opts(toolbar=None)\n",
    "    return tot\n",
    "    \n",
    "    "
   ]
  },
  {
   "cell_type": "markdown",
   "id": "a5717c29",
   "metadata": {},
   "source": [
    "We will begin by installing a basement at 5500 m/s."
   ]
  },
  {
   "cell_type": "code",
   "execution_count": null,
   "id": "504cdc56",
   "metadata": {
    "scrolled": true
   },
   "outputs": [],
   "source": [
    "import syntheticModel\n",
    "import holoviews as hv\n",
    "hv.extension(\"bokeh\",\"matplotlib\",logo=False)\n",
    "\n",
    "hyper=syntheticModel.hypercube(ns=[20,800,800],os=[0,0,0],ds=[5,5,5])\n",
    "basement=syntheticModel.geoModel(hyper,{\"vp\":3000.,\"vs\":2000,\"rho\":2000},\"vp\")"
   ]
  },
  {
   "cell_type": "markdown",
   "id": "5ee107ab",
   "metadata": {},
   "source": [
    "Lets define several different types of deposity functions."
   ]
  },
  {
   "cell_type": "code",
   "execution_count": null,
   "id": "0bdb362b",
   "metadata": {},
   "outputs": [],
   "source": [
    "vsPars={\"vs_dev\":100,\"vs_noiseZStretch\":10}\n",
    "rhoPars={\"rho_dev\":130,\"rho_noiseZStretch\":10}\n",
    "depositC=syntheticModel.deposit(**vsPars,**rhoPars)  #Constant velocity\n",
    "depositI=syntheticModel.deposit(interbedThick=20.,interbedThickDev=13.,interbedPropDev=100.,**vsPars,**rhoPars) #Interbeded layer\n",
    "depositN=syntheticModel.deposit(noiseDev=300.,**vsPars,**rhoPars) #Add some noise to constant velocity\\\n",
    "depositIC=syntheticModel.deposit(interbedThick=15.,interbedThickDev=13.,interbedPropDev=100.,interbedDev=4.,**vsPars,**rhoPars) #Interbed with noise\n",
    "depositICN=syntheticModel.deposit(noiseDev=120,interbedThick=15.,\\\n",
    "                                  interbedThickDev=13.,noiseFrequency=3,noiseZStretch=10,interbedPropDev=100.,\n",
    "                                  interbedDev=4.,**vsPars,**rhoPars)"
   ]
  },
  {
   "cell_type": "markdown",
   "id": "1a842687",
   "metadata": {},
   "source": [
    "We are going to do one big deposition with a gradient function."
   ]
  },
  {
   "cell_type": "code",
   "execution_count": null,
   "id": "75794127",
   "metadata": {
    "scrolled": true
   },
   "outputs": [],
   "source": [
    "update=depositICN.apply(basement,thick=400, prop=1500,seed=23,depthGrad=15,vs_prop=1500,rho_prop=300)\n",
    "plt=createPlot(update.get(),40,400,400)\n",
    "plt"
   ]
  },
  {
   "cell_type": "code",
   "execution_count": null,
   "id": "d58f7936",
   "metadata": {},
   "outputs": [],
   "source": [
    "vs=update.getFloatField(\"vs\").getNdArray()\n",
    "de=update.getFloatField(\"rho\").getNdArray()\n",
    "print(vs.min(),vs.max(),de.min(),de.max(),\"MIN MAX\")"
   ]
  },
  {
   "cell_type": "code",
   "execution_count": null,
   "id": "d86be49f",
   "metadata": {},
   "outputs": [],
   "source": [
    "plt=createPlot(update.getFloatField(\"rho\"),40,400,400)\n",
    "plt"
   ]
  },
  {
   "cell_type": "code",
   "execution_count": null,
   "id": "440dd852",
   "metadata": {},
   "outputs": [],
   "source": [
    "import syntheticModel.event as event\n",
    "import syntheticModel.sincTable as sincTable\n",
    "import syntheticModel.syntheticModel as syntheticModel\n",
    "from syntheticModel.model_noise import fractal\n",
    "from numba import jit, njit, prange, float64\n",
    "import numpy as np\n",
    "import datetime\n",
    "import math\n",
    "\n",
    "RAND_INT_LIMIT = 100000\n",
    "FREQUENCY_LEVELS = [3, 6, 12, 24]\n",
    "AMPLITUDE_LEVELS = [1, 0.5, 0.125, 0.0625]\n",
    "#@njit(float64[:,:](float,float64[:,:],int,int),parallel=True)\n",
    "@njit(parallel=True)\n",
    "def rotateField(azimuth:float,field:np.ndarray,n1:int,n2:int):\n",
    "    cIn=int(field.shape[0]/2.)\n",
    "    cOut1=int(n1/2)\n",
    "    cOut2=int(n2/2)\n",
    "    rot=azimuth/180*math.pi\n",
    "    out=np.zeros((n2,n1))\n",
    "    for i2 in prange(n2):\n",
    "        f2=(i2-cOut2)\n",
    "        for i1 in range(n1):\n",
    "            f1=(i1-cOut1)\n",
    "            b1=math.cos(rot)*f1-f2*math.sin(rot)+cIn\n",
    "            b2=math.cos(rot)*f2+f1*math.sin(rot)+cIn\n",
    "            il1=int(b1)\n",
    "            il2=int(b2)\n",
    "            b1-=il1\n",
    "            b2-=il2\n",
    "\n",
    "            out[i2,i1]=(1.-b1)*(1.-b2)*field[il2,il1]+\\\n",
    "              (   b1)*(1.-b2)*field[il2,il1+1]+\\\n",
    "              (1.-b1)*(   b2)*field[il2+1,il1]+\\\n",
    "              (   b1)*(   b2)*field[il2+1,il1+1]\n",
    "\n",
    "            #out[i2,i1]=field[il2,il1]\n",
    "    return out\n",
    "\n",
    "            \n",
    "    \n",
    "\n",
    "\n",
    "def getNoiseField(n1,n2,maxS,widthInLine,widthCrossLine,azimuth,noise_levels,begFreq):\n",
    "\n",
    "    nmax=int(max(n1,n2)*1.8)\n",
    "    # randomly shift origin\n",
    "    o1 = np.random.rand() * nmax\n",
    "    o2 = np.random.rand() * nmax\n",
    "    p1 = np.linspace(o1, o1 + nmax*widthInLine, nmax, endpoint=False)\n",
    "    p2 = np.linspace(o2, o2 + nmax*widthCrossLine , nmax, endpoint=False)\n",
    "    p = np.stack(np.meshgrid(p1, p2, indexing='ij'), -1)\n",
    "    p = np.reshape(p, (-1, 2)).T\n",
    "\n",
    "    # get freq and amplitude values for perlin octaves\n",
    "    freq=[begFreq]\n",
    "    for i in range (3):\n",
    "        freq.append(freq[-1]*2)\n",
    "\n",
    "    freq_levels = list(np.array(freq[:noise_levels]) / (n1 ))\n",
    "    amp_levels = AMPLITUDE_LEVELS[:noise_levels]\n",
    "    field = fractal(p,\n",
    "                    frequency=freq_levels,\n",
    "                    n_octaves=noise_levels,\n",
    "                    amplitude=amp_levels)\n",
    "    field = np.reshape(field, (nmax, nmax))\n",
    "\n",
    "    # normalize between -1 and 1\n",
    "    mx=np.max(field)\n",
    "    mn=np.min(field)\n",
    "    field = (field+mn)/(mx-mn) *maxS\n",
    "    m=rotateField(azimuth,field,n1,n2)\n",
    "    return m\n",
    "\n",
    "\n",
    "@njit(parallel=True)\n",
    "def shiftFieldF(maxS:int,sincT:np.ndarray,outF:np.ndarray,inF:np.ndarray,shiftF:np.ndarray,\\\n",
    "               fill:float,basement:float):\n",
    "    for i3 in prange(outF.shape[0]):\n",
    "        for i2 in prange(outF.shape[1]):\n",
    "            useF=maxS-shiftF[i3,i2]\n",
    "            imin=math.ceil(useF)\n",
    "            itab=min(sincT.shape[0]-1,int((imin-useF)*sincT.shape[0]+.5))\n",
    "            \n",
    "            for i1 in range(outF.shape[2]):\n",
    "                #outF[i3,i2,i1]=inF[i3,i2,max]\n",
    "                outF[i3,i2,i1]=0\n",
    "                for isinc in range(sincT.shape[1]):\n",
    "                    il=min(inF.shape[2]-1,max(0,i1-3+isinc-imin))\n",
    "                    outF[i3,i2,i1]+=\\\n",
    "                    inF[i3,i2,il]*sincT[itab,isinc]\n",
    "                if i3==490 and i2==709 and i1==200:\n",
    "                    print(i1,imin,itab,outF[i3,i2,i1])\n",
    "\n",
    "\n",
    "@njit(parallel=True)\n",
    "def shiftFieldI(maxS:int,outF:np.ndarray,inF:np.ndarray,shiftF:np.ndarray,\\\n",
    "               fill:float,basement:float):\n",
    "    for i3 in prange(outF.shape[0]):\n",
    "        for i2 in prange(outF.shape[1]):\n",
    "            imin=int(maxS-shiftF[i3,i2]+.5)\n",
    "            for i1 in range(imin):\n",
    "                outF[i3,i2,i1]=fill\n",
    "            for i1 in range(inF.shape[2]):\n",
    "                outF[i3,i2,i1+imin]=inF[i3,i2,i1]\n",
    "            for i1 in range(inF.shape[2]+imin,outF.shape[2]):\n",
    "                outF[i3,i2,i1]=basement            \n",
    "class squish(event.event):\n",
    "    \"\"\"Default class for squishing\"\"\"\n",
    "    def __init__(self,**kw):\n",
    "        super().__init__(**kw)\n",
    "    def applyBase(self,inM:syntheticModel.geoModel,azimuth:float=0.,\\\n",
    "        widthInLine:float=1000., widthCrossLine:float=100.,\\\n",
    "        maxShift:float=50, seed=None,begFreq:float=6.,nfreq=3)->syntheticModel.geoModel:\n",
    "        \"\"\"\n",
    "\n",
    "        Squish a model\n",
    "\n",
    "        Arguements:\n",
    "\n",
    "        inM - Input model\n",
    "        azimuth - Azimuth for squishing\n",
    "        widthInLine - Approximate width for random patterns, axis 1\n",
    "        widthCrosssLine - Approximate width for random patterns, axis 2\n",
    "        maxShift -  Maximum shift in z\n",
    "        seed - [null] int; random seed to initialize noise functions\n",
    "        nfreq -3 Number of frequencies for noise (more means higher frequency bumpiness)\n",
    "        begFreq - 3. Basic frequency level for noise (lower means lowe spatial frequency)\n",
    "\n",
    "        Returns\n",
    "\n",
    "            outModel - Returns updated model  \n",
    "        \"\"\"\n",
    "        if seed is None:\n",
    "            seed =int(datetime.datetime.utcnow().timestamp())\n",
    "        np.random.seed(seed)\n",
    "\n",
    "        axes=inM.getPrimaryProperty().getHyper().axes\n",
    "\n",
    "        #calculate the maximum shift and then add cells to the top\n",
    "        maxS=math.ceil(maxShift/axes[0].d)\n",
    "        outM=inM.expand(maxS,0)\n",
    "\n",
    "        sincT=sincTable.table\n",
    "\n",
    "        shifts=getNoiseField(axes[1].n,axes[2].n,maxS,widthInLine/axes[1].n/axes[1].d,\\\n",
    "            widthCrossLine/axes[2].d/axes[2].n,azimuth, nfreq,begFreq)\n",
    "        shifts-=shifts.min()\n",
    "        self.shifts=shifts\n",
    "\n",
    "\n",
    "        for fld in outM.getFloatFieldList():\n",
    "            inp=inM.getFloatField(fld).getNdArray()\n",
    "            base=inM.getBasementFloat(fld)\n",
    "            outp=outM.getFloatField(fld).getNdArray()\n",
    "\n",
    "            shiftFieldF(maxS,sincT,outp,\\\n",
    "                        inp,shifts,inM.getFillFloat(fld),base)\n",
    "\n",
    "        for fld in outM.getIntFieldList():\n",
    "            inp=inM.getIntField(fld).getNdArray()\n",
    "            base=inM.getBasementInt(fld)\n",
    "            \n",
    "            shiftFieldI(maxS,outM.getIntField(fld).getNdArray(),\\\n",
    "                        inp,shifts,base,inM.getFillInt(fld))\n",
    "        return outM\n",
    "\n",
    "\n",
    "\n",
    "\n",
    "class basic(squish):\n",
    "    def __init__(self,**kw):\n",
    "        \"\"\"\n",
    "        Basic squish, for now we have not specialized\n",
    "        \n",
    "        \"\"\"\n",
    "        super().__init__(**kw)\t\t"
   ]
  },
  {
   "cell_type": "code",
   "execution_count": null,
   "id": "372f1e46",
   "metadata": {},
   "outputs": [],
   "source": [
    "squished2=basic().apply(update,begFreq=24,maxShift=470,seed=55)\n",
    "#squished2=depositIC.apply(squished2,thick=70, prop=1450,seed=33)\n",
    "\n",
    "plt=createPlot(squished2.get(),120,340,490)\n",
    "plt"
   ]
  },
  {
   "cell_type": "markdown",
   "id": "ca1e113f",
   "metadata": {},
   "source": [
    "Lets deposit another layer"
   ]
  },
  {
   "cell_type": "markdown",
   "id": "56120b33",
   "metadata": {},
   "source": [
    "Now lets create a squish event"
   ]
  },
  {
   "cell_type": "markdown",
   "id": "2301c655",
   "metadata": {},
   "source": [
    "Lets create a bunch of faults."
   ]
  },
  {
   "cell_type": "code",
   "execution_count": null,
   "id": "b7eaa1ca",
   "metadata": {},
   "outputs": [],
   "source": [
    "dep3=depositC.apply(squished2,thick=1, prop=1450,seed=58)\n",
    "np.random.seed(99)\n",
    "nb=1\n",
    "ns=1\n",
    "xs=np.random.uniform(low=.1,high=.9,size=(nb,ns))\n",
    "ys=np.random.uniform(low=.1,high=.9,size=(nb,ns))\n",
    "zs=np.random.uniform(low=.1,high=.9,size=(nb,ns))\n",
    "angles=np.random.uniform(low=32,high=44,size=(nb,ns))\n",
    "rads=np.random.uniform(low=1850,high=2150,size=(nb,ns))\n",
    "shifts=np.random.uniform(low=130,high=160,size=(nb,ns))\n",
    "lengths=np.random.uniform(low=300,high=440,size=(nb,ns))\n",
    "azimuth=np.random.uniform(low=12,high=23,size=(nb,ns))\n",
    "seeds=np.random.randint(99,size=(nb,ns))\n",
    "\n"
   ]
  },
  {
   "cell_type": "code",
   "execution_count": null,
   "id": "f63438db",
   "metadata": {},
   "outputs": [],
   "source": [
    "import syntheticModel.fault as fault\n",
    "dep3=depositC.apply(squished2,thick=1, prop=1850,seed=86)\n",
    "\n",
    "for i in range(xs.shape[0]):\n",
    "    for j in range(xs.shape[1]):\n",
    "        print(\"working on\",j,i)\n",
    "        dep3=syntheticModel.fault().apply(dep3,angle=angles[i,j],radius=rads[i,j],begx=xs[i,j],begy=ys[i,j],\\\n",
    "                            azimuth=azimuth[i,j],seed=seeds[i,j],\\\n",
    "        begz=zs[i,j],indicateI=True,shift=shifts[i,j],ruptureLength=lengths[i,j])\n",
    "        print(f\"beg={zs[i,j]},{ys[i,j]},{xs[i,j]} angle={angles[i,j]}, {lengths[i,j]}\")\n",
    "    #dep3=depositC.apply(dep3,thick=1,prop=1850)\n",
    "\n",
    "    \n",
    "    \n",
    "plt=createPlot(dep3.get(),120,340,490)\n",
    "plt"
   ]
  },
  {
   "cell_type": "code",
   "execution_count": null,
   "id": "9fc156d8",
   "metadata": {},
   "outputs": [],
   "source": [
    "\n",
    "s=squished2.get().getNdArray()\n",
    "print(s.min(),s.max())\n",
    "plt=createPlot(squished2.get(),200,340,490)\n",
    "plt\n",
    "\n",
    "n=s[490,709,200]\n",
    "print(n)\n"
   ]
  },
  {
   "cell_type": "code",
   "execution_count": null,
   "id": "fd6e2bf7",
   "metadata": {},
   "outputs": [],
   "source": []
  },
  {
   "cell_type": "code",
   "execution_count": null,
   "id": "8c941860",
   "metadata": {},
   "outputs": [],
   "source": []
  }
 ],
 "metadata": {
  "environment": {
   "kernel": "python3",
   "name": "common-cpu.m112",
   "type": "gcloud",
   "uri": "gcr.io/deeplearning-platform-release/base-cpu:m112"
  },
  "kernelspec": {
   "display_name": "Python 3",
   "language": "python",
   "name": "python3"
  },
  "language_info": {
   "codemirror_mode": {
    "name": "ipython",
    "version": 3
   },
   "file_extension": ".py",
   "mimetype": "text/x-python",
   "name": "python",
   "nbconvert_exporter": "python",
   "pygments_lexer": "ipython3",
   "version": "3.10.12"
  }
 },
 "nbformat": 4,
 "nbformat_minor": 5
}
