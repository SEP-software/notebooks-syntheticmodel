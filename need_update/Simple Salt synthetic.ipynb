{
 "cells": [
  {
   "cell_type": "markdown",
   "id": "c0495eac",
   "metadata": {},
   "source": [
    "# Salt synthetic\n",
    "\n",
    "An example of creating a simple synthetic salt model. Lets start with a simple plotting function."
   ]
  },
  {
   "cell_type": "markdown",
   "id": "a903d0cb-add7-4fa8-8149-a26e702558de",
   "metadata": {},
   "source": [
    "# Salt synthetic\n",
    "\n",
    "An example of creating a simple synthetic salt model. Lets start with a simple plotting function."
   ]
  },
  {
   "cell_type": "code",
   "execution_count": null,
   "id": "1d0c4d25",
   "metadata": {},
   "outputs": [],
   "source": [
    "import numpy as np\n",
    "def createPlot(data,p1,p2,p3):\n",
    "    if isinstance(data,np.ndarray):\n",
    "        fld=data\n",
    "        hyper=Hypercube.hypercube(ns=[data.shape[2],data.shape[1],data.shape[0]])\n",
    "    else:\n",
    "        fld=data.getNdArray()\n",
    "        hyper=data.getHyper()\n",
    "    ax1=hyper.axes[0]\n",
    "    ax2=hyper.axes[1]\n",
    "    ax3=hyper.axes[2]\n",
    "    mn=fld.min()\n",
    "    mx=fld.max()\n",
    "    front=fld[p3,:,::-1].T\n",
    "    top=fld[::-1,:,p1]\n",
    "    side=fld[:,p2,::-1].T\n",
    "    b=(ax1.o,ax1.o+ax1.d*(ax1.n-1),ax2.o,ax2.o+ax2.d*(ax2.n-1))\n",
    "    frontF=hv.Image(front,kdims=[\"X\",\"Z\"],bounds=(ax2.o,ax1.o,ax2.o+ax2.d*(ax2.n-1),ax1.o+ax1.d*(ax1.n-1))).opts(\\\n",
    "             cmap=\"gist_rainbow\",clim=(mn,mx),toolbar=None,invert_yaxis=True,aspect=1,axiswise=True)\n",
    "    sideF=hv.Image(side,kdims=[\"Y\",\"Z\"],bounds=(ax3.o,ax1.o,ax3.o+ax3.d*(ax3.n-1),ax1.o+ax1.d*(ax1.n-1))).opts(\\\n",
    "             cmap=\"gist_rainbow\",clim=(mn,mx),toolbar=None,yaxis=None,invert_yaxis=True,aspect=1.,axiswise=True)\n",
    "    topF=hv.Image(top,kdims=[\"X\",\"Y\"],bounds=(ax2.o,ax2.o,ax2.o+ax2.d*(ax2.n-1),ax3.o+ax3.d*(ax3.n-1))).opts(\\\n",
    "             cmap=\"gist_rainbow\",clim=(mn,mx),toolbar=None,xaxis=None,aspect=1,axiswise=True)\n",
    "    botF=hv.Layout(frontF+sideF).opts(toolbar=None)\n",
    "    tot=hv.Layout(topF+hv.Empty()+frontF+sideF).cols(2).opts(toolbar=None)\n",
    "    return tot\n",
    "    \n",
    "    "
   ]
  },
  {
   "cell_type": "markdown",
   "id": "a5717c29",
   "metadata": {},
   "source": [
    "We will begin by installing a basement at 5500 m/s."
   ]
  },
  {
   "cell_type": "code",
   "execution_count": null,
   "id": "504cdc56",
   "metadata": {},
   "outputs": [],
   "source": [
    "import syntheticModel\n",
    "import holoviews as hv\n",
    "hv.extension(\"bokeh\",\"matplotlib\",logo=False)\n",
    "\n",
    "hyper=syntheticModel.hypercube(ns=[20,800,800],os=[0,0,0],ds=[10,10,10])\n",
    "basement=syntheticModel.geoModel(hyper,{\"vel\":5000.},\"vel\")"
   ]
  },
  {
   "cell_type": "markdown",
   "id": "5ee107ab",
   "metadata": {},
   "source": [
    "Lets define several different types of deposity functions."
   ]
  },
  {
   "cell_type": "code",
   "execution_count": null,
   "id": "0bdb362b",
   "metadata": {},
   "outputs": [],
   "source": [
    "depositC=syntheticModel.deposit()  #Constant velocity\n",
    "depositI=syntheticModel.deposit(interbedThick=20.,interbedThickDev=13.,interbedPropDev=100.) #Interbeded layer\n",
    "depositN=syntheticModel.deposit(noiseDev=300.) #Add some noise to constant velocity\n",
    "depositIC=syntheticModel.deposit(interbedThick=15.,interbedThickDev=13.,interbedPropDev=100.,interbedDev=4.) #Interbed with noise"
   ]
  },
  {
   "cell_type": "markdown",
   "id": "1a842687",
   "metadata": {},
   "source": [
    "Lets begin by putting in a simple deposition layer and look at the current model."
   ]
  },
  {
   "cell_type": "code",
   "execution_count": null,
   "id": "75794127",
   "metadata": {},
   "outputs": [],
   "source": [
    "update=depositIC.apply(basement,thick=80, prop=4100,seed=23)\n",
    "plt=createPlot(update.get(),40,400,400)\n",
    "plt"
   ]
  },
  {
   "cell_type": "markdown",
   "id": "ca1e113f",
   "metadata": {},
   "source": [
    "Lets deposit another layer"
   ]
  },
  {
   "cell_type": "code",
   "execution_count": null,
   "id": "d5d170b2",
   "metadata": {},
   "outputs": [],
   "source": [
    "update=depositI.apply(update,thick=80, prop=3250,seed=24)\n",
    "plt=createPlot(update.get(),40,400,400)\n",
    "plt"
   ]
  },
  {
   "cell_type": "markdown",
   "id": "0cbc7891",
   "metadata": {},
   "source": []
  },
  {
   "cell_type": "code",
   "execution_count": null,
   "id": "76ba7dfe",
   "metadata": {},
   "outputs": [],
   "source": [
    "squished=syntheticModel.squish().apply(update,begFreq=70,maxShift=470,seed=44)\n",
    "depositIC=syntheticModel.deposit(interbedThick=15.,interbedThickDev=13.,interbedPropDev=200.,interbedDev=4.) #Interbed with noise\n",
    "squished=depositIC.apply(squished,thick=70, prop=2900,seed=46)\n",
    "\n",
    "plt=createPlot(squished.get(),170,400,400)\n",
    "plt"
   ]
  },
  {
   "cell_type": "code",
   "execution_count": null,
   "id": "f721fbde",
   "metadata": {},
   "outputs": [],
   "source": []
  },
  {
   "cell_type": "code",
   "execution_count": null,
   "id": "2e5c8549",
   "metadata": {},
   "outputs": [],
   "source": [
    "squished2=syntheticModel.squish().apply(update,begFreq=70,maxShift=470,seed=44)\n",
    "squished2=depositIC.apply(squished2,thick=70, prop=2900,seed=46)\n",
    "\n",
    "plt=createPlot(squished2.get(),170,400,400)\n",
    "plt"
   ]
  },
  {
   "cell_type": "code",
   "execution_count": null,
   "id": "6c9681bc",
   "metadata": {
    "scrolled": true
   },
   "outputs": [],
   "source": [
    "dep2=depositIC.apply(squished,thick=40, prop=2700,seed=53)\n",
    "dep2=depositIC.apply(dep2,thick=40, prop=2400,seed=54)\n",
    "dep2=depositIC.apply(dep2,thick=40, prop=2200,seed=55)\n",
    "dep2=syntheticModel.squish().apply(dep2,begFreq=40,maxShift=300,seed=56)\n",
    "dep2=depositIC.apply(dep2,thick=40, prop=1900.,seed=57)\n",
    "plt=createPlot(dep2.get(),270,400,400)\n",
    "plt"
   ]
  },
  {
   "cell_type": "code",
   "execution_count": null,
   "id": "b7eaa1ca",
   "metadata": {},
   "outputs": [],
   "source": [
    "dep3=depositC.apply(dep2,thick=1, prop=1850,seed=58)\n",
    "np.random.seed(99)\n",
    "xs=np.random.uniform(low=.1,high=.9,size=(10,10))\n",
    "ys=np.random.uniform(low=.1,high=.9,size=(10,10))\n",
    "zs=np.random.uniform(low=.1,high=.9,size=(10,10))\n",
    "angles=np.random.uniform(low=23,high=30,size=(10,10))\n",
    "rads=np.random.uniform(low=1850,high=2150,size=(10,10))\n",
    "shifts=np.random.uniform(low=130,high=160,size=(10,10))\n",
    "lengths=np.random.uniform(low=300,high=440,size=(10,10))\n",
    "azimuth=np.random.uniform(low=40,high=45,size=(10,10))\n",
    "seeds=np.random.randint(99,size=(10,10))\n",
    "\n"
   ]
  },
  {
   "cell_type": "code",
   "execution_count": null,
   "id": "a4db38de",
   "metadata": {},
   "outputs": [],
   "source": [
    "x=dep2.get().getNdArray()\n",
    "print(x.min(),x.max())\n"
   ]
  },
  {
   "cell_type": "code",
   "execution_count": null,
   "id": "f63438db",
   "metadata": {},
   "outputs": [],
   "source": [
    "dep3=depositC.apply(dep2,thick=1, prop=1850,seed=86)\n",
    "\n",
    "for i in range(xs.shape[0]):\n",
    "    for j in range(xs.shape[1]):\n",
    "        print(\"working on\",j,i)\n",
    "        dep3=syntheticModel.fault().apply(dep3,angle=angles[i,j],radius=rads[i,j],begx=xs[i,j],begy=ys[i,j],\\\n",
    "                            azimuth=azimuth[i,j],seed=seeds[i,j],\\\n",
    "        begz=zs[i,j],indicateI=True,shift=shifts[i,j],ruptureLength=lengths[i,j])\n",
    "\n",
    "    dep3=depositC.apply(dep3,thick=1,prop=1850)\n",
    "\n",
    "    \n",
    "    \n",
    "plt=createPlot(dep3.get(),120,340,490)\n",
    "plt"
   ]
  },
  {
   "cell_type": "code",
   "execution_count": null,
   "id": "22a793b2",
   "metadata": {},
   "outputs": [],
   "source": [
    "plt=createPlot(dep3.getIntField(\"indicator\"),120,340,490)\n",
    "plt"
   ]
  },
  {
   "cell_type": "code",
   "execution_count": null,
   "id": "e23e9f49",
   "metadata": {},
   "outputs": [],
   "source": [
    "mt7=syntheticModel.salt().apply(dep3,seed=238,beg_freq=9.5,applyHills=True,\\\n",
    "            salt_value={\"vel\":4500})\n",
    "mt7=depositC.apply(mt7,prop=1450,thick=100)\n",
    "plt=createPlot(mt7.get(),400,403,725)\n",
    "plt"
   ]
  },
  {
   "cell_type": "code",
   "execution_count": null,
   "id": "5b937533",
   "metadata": {
    "scrolled": true
   },
   "outputs": [],
   "source": [
    "plt=createPlot(mt7.get(),400,403,725)\n",
    "plt"
   ]
  },
  {
   "cell_type": "code",
   "execution_count": null,
   "id": "f28ea0bf",
   "metadata": {},
   "outputs": [],
   "source": []
  },
  {
   "cell_type": "code",
   "execution_count": null,
   "id": "46938b97",
   "metadata": {},
   "outputs": [],
   "source": []
  },
  {
   "cell_type": "code",
   "execution_count": null,
   "id": "831b6abc",
   "metadata": {},
   "outputs": [],
   "source": []
  }
 ],
 "metadata": {
  "environment": {
   "kernel": "python3",
   "name": "common-cpu.m112",
   "type": "gcloud",
   "uri": "gcr.io/deeplearning-platform-release/base-cpu:m112"
  },
  "kernelspec": {
   "display_name": "Python 3",
   "language": "python",
   "name": "python3"
  },
  "language_info": {
   "codemirror_mode": {
    "name": "ipython",
    "version": 3
   },
   "file_extension": ".py",
   "mimetype": "text/x-python",
   "name": "python",
   "nbconvert_exporter": "python",
   "pygments_lexer": "ipython3",
   "version": "3.10.12"
  }
 },
 "nbformat": 4,
 "nbformat_minor": 5
}
