{
 "cells": [
  {
   "cell_type": "code",
   "execution_count": null,
   "id": "05033873",
   "metadata": {},
   "outputs": [],
   "source": [
    "import opensimplex\n",
    "import numpy as np\n",
    "import holoviews as hv\n",
    "\n",
    "hv.extension(\"bokeh\",\"matplotlib\",logo=False)\n",
    "\n",
    "o={\"cmap\":\"gist_gray\"}\n",
    "\n",
    "\n",
    "\n",
    "\n",
    "x1=np.linspace(0,2.,250)\n",
    "x2=np.linspace(0.,2.,250)\n",
    "val1=opensimplex.noise2array(x1,x2)\n",
    "val2=opensimplex.noise2array(x1*2,x2*2)\n",
    "val3=opensimplex.noise2array(x1*4,x2*4)\n",
    "   \n",
    "o={\"cmap\":\"gist_gray\"}\n",
    "\n",
    "\n",
    "oneField=(hv.Image(val1,bounds=(0,0,1,1)).opts(**o)+\\\n",
    "          hv.Image(val2,bounds=(0,0,1,1)).opts(**o)+\\\n",
    "          hv.Image(val3,bounds=(0,0,1,1)).opts(**o)).opts(toolbar=None)\n",
    "          \n",
    "hv.renderer(\"bokeh\").save(oneField,\"oneField\",fmt=\"png\")  \n",
    "oneField"
   ]
  },
  {
   "cell_type": "code",
   "execution_count": null,
   "id": "25708fec",
   "metadata": {},
   "outputs": [],
   "source": [
    "\n",
    "totField=hv.Image(val1+val2*.5+val3*.25,bounds=(0,0,1,1)).opts(**o).opts(toolbar=None)\n",
    "hv.renderer(\"bokeh\").save(totField,\"totField\",fmt=\"png\")  \n",
    "totField"
   ]
  },
  {
   "cell_type": "code",
   "execution_count": null,
   "id": "353d2c0e",
   "metadata": {},
   "outputs": [],
   "source": [
    "import syntheticModel\n",
    "hv.extension(\"bokeh\",\"matplotlib\",logo=False)\n"
   ]
  },
  {
   "cell_type": "code",
   "execution_count": null,
   "id": "8a9dc31a",
   "metadata": {},
   "outputs": [],
   "source": [
    "p1 = hv.Image(val1,bounds=(0,0,1,1)).opts(**o,toolbar=None)\n",
    "p2 = hv.Image(val1,bounds=(0,0,1,1)).opts(**o,toolbar=None)\n",
    "p3 = hv.Image(val1,bounds=(0,0,1,1)).opts(**o,toolbar=None)\n",
    "m=(p2+p3).opts(toolbar=None)\n",
    "n=hv.Layout(m+p1).cols(2)\n",
    "\n",
    "\n",
    "def createPlot(data,p1,p2,p3):\n",
    "    if isinstance(data,np.ndarray):\n",
    "        fld=data\n",
    "        hyper=syntheticModel.hypercube(ns=[data.shape[2],data.shape[1],data.shape[0]])\n",
    "    else:\n",
    "        fld=data.getNdArray()\n",
    "        hyper=data.getHyper()\n",
    "    ax1=hyper.axes[0]\n",
    "    ax2=hyper.axes[1]\n",
    "    ax3=hyper.axes[2]\n",
    "    mn=fld.min()\n",
    "    mx=fld.max()\n",
    "    front=fld[p3,:,::-1].T\n",
    "    top=fld[:,:,p1]\n",
    "    side=fld[:,p2,::-1].T\n",
    "    b=(ax1.o,ax1.o+ax1.d*(ax1.n-1),ax2.o,ax2.o+ax2.d*(ax2.n-1))\n",
    "    print(b,mn,mx)\n",
    "    frontF=hv.Image(front,kdims=[\"X\",\"Z\"],bounds=(ax2.o,ax1.o,ax2.o+ax2.d*(ax2.n-1),ax1.o+ax1.d*(ax1.n-1))).opts(\\\n",
    "             cmap=\"gist_gray\",clim=(mn,mx),toolbar=None,invert_yaxis=True,aspect=1,axiswise=True)\n",
    "    sideF=hv.Image(side,kdims=[\"Y\",\"Z\"],bounds=(ax3.o,ax1.o,ax3.o+ax3.d*(ax3.n-1),ax1.o+ax1.d*(ax1.n-1))).opts(\\\n",
    "             cmap=\"gist_gray\",clim=(mn,mx),toolbar=None,yaxis=None,invert_yaxis=True,aspect=1.,axiswise=True)\n",
    "    topF=hv.Image(top,kdims=[\"X\",\"Y\"],bounds=(ax1.o,ax2.o,ax1.o+ax1.d*(ax1.n-1),ax2.o+ax2.d*(ax2.n-1))).opts(\\\n",
    "             cmap=\"gist_gray\",clim=(mn,mx),toolbar=None,xaxis=None,aspect=1,axiswise=True)\n",
    "    botF=hv.Layout(frontF+sideF).opts(toolbar=None)\n",
    "    tot=hv.Layout(topF+hv.Empty()+frontF+sideF).cols(2).opts(toolbar=None)\n",
    "    return tot\n",
    "    \n",
    "    \n",
    "        "
   ]
  },
  {
   "cell_type": "code",
   "execution_count": null,
   "id": "681452d7",
   "metadata": {},
   "outputs": [],
   "source": [
    "import syntheticModel\n",
    "hv.extension(\"bokeh\",\"matplotlib\",logo=False)\n",
    "\n",
    "hyper=syntheticModel.hypercube(ns=[20,400,200],os=[0,0,0],ds=[4,4,4])\n",
    "model=syntheticModel.geoModel(hyper,{\"vel\":5000.},\"vel\")\n",
    "depositC=syntheticModel.deposit()\n",
    "depositI=syntheticModel.deposit(interbedThick=5.,interbedThickDev=3.,interbedPropDev=200.)\n",
    "depositN=syntheticModel.deposit(noiseDev=300.)\n",
    "depositIC=syntheticModel.deposit(interbedThick=5.,interbedThickDev=3.,interbedPropDev=200.,interbedDev=8.)\n",
    "mt=depositI.apply(model,thick=40,prop=4700)\n",
    "mt2=depositI.apply(mt,thick=70,prop=4100)\n",
    "mt3=depositI.apply(mt2,thick=60,prop=3700)\n",
    "mt4=depositI.apply(mt3,thick=60,prop=3100,expand=False)\n",
    "mt5=syntheticModel.squish().apply(mt4,begFreq=13,maxShift=150)\n",
    "mt6=depositI.apply(mt5,thick=30)"
   ]
  },
  {
   "cell_type": "code",
   "execution_count": null,
   "id": "b9337184",
   "metadata": {},
   "outputs": [],
   "source": [
    "\n",
    "squishP=createPlot(mt6.get(),200,200,100)\n",
    "squishP"
   ]
  },
  {
   "cell_type": "code",
   "execution_count": null,
   "id": "927cfcdf",
   "metadata": {},
   "outputs": [],
   "source": [
    "\n",
    "mt6=depositI.apply(mt5,thick=30)\n",
    "xs=np.random.uniform(low=.2,high=.8,size=(10,))\n",
    "ys=np.random.uniform(low=.2,high=.8,size=(10,))\n",
    "zs=np.random.uniform(low=.3,high=.8,size=(10,))\n",
    "angles=np.random.uniform(low=45,high=46,size=(10,))\n",
    "rads=np.random.uniform(low=1850,high=2150,size=(10,))\n",
    "shifts=np.random.uniform(low=100,high=140,size=(10,))\n",
    "lengths=np.random.uniform(low=170,high=240,size=(10,))\n",
    "#azs=np.random.uniform(low=-1,high=2,size=(10,))\n",
    "xs[0]=.5\n",
    "ys[0]=.5\n",
    "zs[0]=.5\n",
    "shifts[0]=30\n",
    "for i in range(1):\n",
    "    mt6=syntheticModel.fault().apply(mt4,angle=angles[i],radius=rads[i],begx=xs[i],begy=ys[i],\\\n",
    "                            azimuth=45,\\\n",
    "        begz=zs[i],indicateI=True,shift=shifts[i],ruptureLength=lengths[i])\n"
   ]
  },
  {
   "cell_type": "code",
   "execution_count": null,
   "id": "de37a79f",
   "metadata": {},
   "outputs": [],
   "source": [
    "faultsP=createPlot(mt6.get(),100,200,100)\n",
    "#hv.renderer(\"bokeh\").save(faultsP,\"faults\",fmt=\"png\")\n",
    "faultsP"
   ]
  },
  {
   "cell_type": "code",
   "execution_count": null,
   "id": "88627054",
   "metadata": {},
   "outputs": [],
   "source": [
    "indicatorF=createPlot(mt6.getIntField(\"indicator\"),200,200,100)\n",
    "hv.renderer(\"bokeh\").save(indicatorF,\"indicatorF\",fmt=\"png\")\n",
    "indicatorF\n",
    "x=mt6.getIntField(\"indicator\").getNdArray()\n"
   ]
  },
  {
   "cell_type": "code",
   "execution_count": null,
   "id": "0fc44f8c",
   "metadata": {},
   "outputs": [],
   "source": [
    "\n",
    "mt6=depositI.apply(mt5,thick=30)\n",
    "mt7=syntheticModel.salt().apply(mt6,seed=23,beg_freq=3.5,\\\n",
    "            salt_value={\"vel\":4500})"
   ]
  },
  {
   "cell_type": "code",
   "execution_count": null,
   "id": "62303f43",
   "metadata": {},
   "outputs": [],
   "source": [
    "saltP=createPlot(mt7.get(),200,200,100)\n",
    "hv.renderer(\"bokeh\").save(saltP,\"saltP\",fmt=\"png\")\n",
    "saltP"
   ]
  },
  {
   "cell_type": "code",
   "execution_count": null,
   "id": "3303e039",
   "metadata": {},
   "outputs": [],
   "source": [
    "mt6=depositI.apply(mt5,thick=30)\n",
    "mt7=syntheticModel.chimneyBig().apply(mt6,width=.07)\n",
    "mt8=depositC.apply(mt7,prop=1500,thicl=20)"
   ]
  },
  {
   "cell_type": "code",
   "execution_count": null,
   "id": "96f1164b",
   "metadata": {},
   "outputs": [],
   "source": [
    "chimneyP=createPlot(mt8.get(),32,200,100)\n",
    "hv.renderer(\"bokeh\").save(chimneyP,\"chimneyP\",fmt=\"png\")\n",
    "chimneyP"
   ]
  },
  {
   "cell_type": "code",
   "execution_count": null,
   "id": "9cc185e6",
   "metadata": {},
   "outputs": [],
   "source": [
    "mt9=syntheticModel.salt().apply(mt8,beg_freq=3.5,\\\n",
    "            salt_value={\"vel\":4500},applyHills=True,maxShift=40)\n",
    "saltP=createPlot(mt9.get(),31,200,100)\n",
    "#hv.renderer(\"bokeh\").save(riverP,\"riverP\",fmt=\"png\")\n",
    "saltP"
   ]
  },
  {
   "cell_type": "code",
   "execution_count": null,
   "id": "93e72942",
   "metadata": {},
   "outputs": [],
   "source": [
    "riverP=createPlot(mt9.get(),31,200,100)\n",
    "hv.renderer(\"bokeh\").save(riverP,\"riverP\",fmt=\"png\")\n",
    "riverP"
   ]
  },
  {
   "cell_type": "code",
   "execution_count": null,
   "id": "77f23f76",
   "metadata": {
    "scrolled": true
   },
   "outputs": [],
   "source": []
  },
  {
   "cell_type": "code",
   "execution_count": null,
   "id": "d48114c7",
   "metadata": {},
   "outputs": [],
   "source": []
  },
  {
   "cell_type": "code",
   "execution_count": null,
   "id": "309e3311",
   "metadata": {},
   "outputs": [],
   "source": []
  },
  {
   "cell_type": "code",
   "execution_count": null,
   "id": "12efe883",
   "metadata": {},
   "outputs": [],
   "source": []
  },
  {
   "cell_type": "code",
   "execution_count": null,
   "id": "433e33eb",
   "metadata": {},
   "outputs": [],
   "source": []
  }
 ],
 "metadata": {
  "environment": {
   "kernel": "python3",
   "name": "common-cpu.m112",
   "type": "gcloud",
   "uri": "gcr.io/deeplearning-platform-release/base-cpu:m112"
  },
  "kernelspec": {
   "display_name": "Python 3",
   "language": "python",
   "name": "python3"
  },
  "language_info": {
   "codemirror_mode": {
    "name": "ipython",
    "version": 3
   },
   "file_extension": ".py",
   "mimetype": "text/x-python",
   "name": "python",
   "nbconvert_exporter": "python",
   "pygments_lexer": "ipython3",
   "version": "3.10.12"
  }
 },
 "nbformat": 4,
 "nbformat_minor": 5
}
